{
  "cells": [
    {
      "cell_type": "code",
      "execution_count": 1,
      "metadata": {
        "id": "fmzT0LcaCZOv"
      },
      "outputs": [
        {
          "name": "stderr",
          "output_type": "stream",
          "text": [
            "c:\\Users\\ihousman\\AppData\\Local\\Programs\\Python\\Python311\\Lib\\site-packages\\google\\auth\\_default.py:78: UserWarning: Your application has authenticated using end user credentials from Google Cloud SDK without a quota project. You might receive a \"quota exceeded\" or \"API not enabled\" error. See the following page for troubleshooting: https://cloud.google.com/docs/authentication/adc-troubleshooting/user-creds. \n",
            "  warnings.warn(_CLOUD_SDK_CREDENTIALS_WARNING)\n"
          ]
        },
        {
          "name": "stdout",
          "output_type": "stream",
          "text": [
            "geeViz package folder: c:\\Users\\ihousman\\AppData\\Local\\Programs\\Python\\Python311\\Lib\\site-packages\\geeViz\n"
          ]
        }
      ],
      "source": [
        "import ee,requests,os,sys,shutil\n",
        "from IPython.display import Image\n",
        "ee.Initialize(project='lcms-292214')\n",
        "\n",
        "import geeViz.getImagesLib as gil\n",
        "import geeViz.changeDetectionLib as cdl\n",
        "Map = gil.Map"
      ]
    },
    {
      "cell_type": "code",
      "execution_count": 24,
      "metadata": {
        "id": "9yBHahoeCdlT"
      },
      "outputs": [
        {
          "name": "stdout",
          "output_type": "stream",
          "text": [
            "../assets/images\\CONUS_v2023-9_Change_Loss.png\n",
            "[[[-2361585.0204712525, 259064.86686735478], [2263785.109653341, 259064.86686735478], [2263785.109653341, 3177404.865907416], [-2361585.0204712525, 3177404.865907416], [-2361585.0204712525, 259064.86686735478]]]\n",
            "[30, 0, -2361915.0, 0, -30, 3177735.0]\n",
            "Adding layer: Loss\n",
            "Adding layer: Loss+Gain\n",
            "Adding layer: Land Cover\n",
            "Adding layer: Land Use\n"
          ]
        }
      ],
      "source": [
        "# Get CONUS Loss and Loss+Gain images\n",
        "\n",
        "output_folder = '../assets/images'\n",
        "version = '2023-9'\n",
        "conus_loss = os.path.join(output_folder,f'CONUS_v{version}_Change_Loss.png')\n",
        "conus_loss_gain = os.path.join(output_folder,f'CONUS_v{version}_Change_Loss_Gain.png')\n",
        "conus_lc = os.path.join(output_folder,f'CONUS_v{version}_Land_Cover.png')\n",
        "conus_lu = os.path.join(output_folder,f'CONUS_v{version}_Land_Use.png')\n",
        "print(conus_loss)\n",
        "gil.vizParamsTrue = {'min': 0.1, 'max': [0.3, 0.3, 0.3], 'bands': 'red,green,blue'}\n",
        "sa = ee.FeatureCollection(\"projects/lcms-tcc-shared/assets/CONUS/Ancillary/Conus_NLCD_Boundary\")\n",
        "\n",
        "crs = gil.common_projections['NLCD_CONUS']['crs']\n",
        "transform = gil.common_projections['NLCD_CONUS']['transform']\n",
        "print(sa.geometry().bounds(500,crs).coordinates().getInfo())\n",
        "dem = ee.Image(\"USGS/3DEP/10m\").resample(\"bicubic\")\n",
        "hillshade = ee.Terrain.hillshade(dem)\n",
        "# transform[0] = 300\n",
        "# transform[-2] = 300\n",
        "print(transform)\n",
        "\n",
        "def getMostRecentChange(c, code):\n",
        "    c = c.select(['Change'])\n",
        "    def wrapper(img):\n",
        "        yr = ee.Date(img.get(\"system:time_start\")).get(\"year\")\n",
        "        out = ee.Image(yr).int16()\n",
        "        out = out.where(img.neq(code),0).setDefaultProjection(crs,transform)#.selfMask()\n",
        "        return (\n",
        "            ee.Image(out\n",
        "            .rename([\"year\"])\n",
        "            .copyProperties(img, [\"system:time_start\"])).reduceResolution(ee.Reducer.firstNonNull(),True,256).selfMask()#.reproject(crs,transform)#.selfMask()\n",
        "        )\n",
        "\n",
        "    return c.map(wrapper)\n",
        "def downloadImage(url,filename):\n",
        "    img_data = requests.get(url).content\n",
        "    with open(filename, 'wb') as handler:\n",
        "        handler.write(img_data)\n",
        "\n",
        "comp = ee.ImageCollection(\"projects/lcms-tcc-shared/assets/CONUS/Composites/Composite-Collection-yesL7\")\\\n",
        ".filter(ee.Filter.calendarRange(2020,2023,'year')).mean()#.resample('bicubic').reproject(crs,transform)\n",
        "\n",
        "comp = comp.visualize(**gil.vizParamsTrue10k)#.setDefaultProjection(crs,transform)#.reduceResolution(ee.Reducer.mean(),True).reproject(crs,transform)\n",
        "\n",
        "lcms = ee.ImageCollection(\"USFS/GTAC/LCMS/v2023-9\").filter(\"study_area=='CONUS'\")\n",
        "props = lcms.first().toDictionary()\n",
        "lc = lcms.select(['Land_Cover']).sort('system:time_start',False).first().set(props).setDefaultProjection(crs,transform).reduceResolution(ee.Reducer.firstNonNull(),True,256).visualize()\n",
        "lu = lcms.select(['Land_Use']).sort('system:time_start',False).first().set(props).setDefaultProjection(crs,transform).reduceResolution(ee.Reducer.firstNonNull(),True,256).visualize()\n",
        "\n",
        "fast_loss = getMostRecentChange(lcms,3).mean().visualize(**{'min':1985,'max':2023,'palette':cdl.lossYearPalette})\n",
        "slow_loss = getMostRecentChange(lcms,2).mean().visualize(**{'min':1985,'max':2023,'palette':cdl.lossYearPalette})\n",
        "gain = getMostRecentChange(lcms,4).mean().visualize(**{'min':1985,'max':2023,'palette':cdl.gainYearPalette})\n",
        "\n",
        "loss = comp\n",
        "loss = loss.where(fast_loss.neq(0),fast_loss)\n",
        "loss = loss.where(slow_loss.neq(0),slow_loss)\n",
        "\n",
        "loss_gain = comp\n",
        "\n",
        "loss_gain = loss_gain.where(fast_loss.neq(0),fast_loss)\n",
        "loss_gain = loss_gain.where(slow_loss.neq(0),slow_loss)\n",
        "loss_gain = loss_gain.where(gain.neq(0),gain)\n",
        "\n",
        "# loss = hillshade.blend(loss.visualize(**{\"opacity\": 0.7}))\n",
        "# loss_gain = hillshade.blend(loss_gain.visualize(**{\"opacity\": 0.7}))\n",
        "Map.clearMap()\n",
        "Map.addLayer(loss,{},'Loss')\n",
        "Map.addLayer(loss_gain,{},'Loss+Gain')\n",
        "Map.addLayer(lc,{},'Land Cover')\n",
        "Map.addLayer(lu,{},'Land Use')\n",
        "# Map.view()\n",
        "\n",
        "params = {\n",
        "  'region': sa.geometry().bounds(500,crs),\n",
        "  'dimensions': 2000,\n",
        "  'crs': crs,\n",
        "  'transform':transform,\n",
        "  'framesPerSecond': 3\n",
        "}\n",
        "\n",
        "# Get a URL that will generate a GIF.\n",
        "# url = comps.getVideoThumbURL(params)\n",
        "# loss_url = loss.getThumbURL(params)\n",
        "# loss_gain_url = loss_gain.getThumbURL(params)\n",
        "lc_url = lc.getThumbURL(params)\n",
        "lu_url = lu.getThumbURL(params)\n",
        "\n",
        "# downloadImage(loss_url,conus_loss)\n",
        "# downloadImage(loss_gain_url,conus_loss_gain)\n",
        "# https://apps.fs.usda.gov/fsgisx01/rest/services/RDW_LandscapeAndWildlife/LCMS_CONUS_Annual_Landcover/ImageServer/exportImage?f=image&bbox=-19716324.307481624%2C3034551.5331106214%2C-4688193.050393688%2C6243683.728634608&bboxSR=102100&imageSR=102100&size=1536%2C328&format=jpgpng&mosaicRule=%7B%22ascending%22%3Atrue%2C%22mosaicMethod%22%3A%22esriMosaicNorthwest%22%2C%22mosaicOperation%22%3A%22MT_FIRST%22%7D&renderingRule=%7B%22rasterFunction%22%3A%22Annual_Landcover%22%7D&time=1672444860000]\\\n",
        "downloadImage(lc_url,conus_lc)\n",
        "downloadImage(lu_url,conus_lu)\n"
      ]
    },
    {
      "cell_type": "code",
      "execution_count": 27,
      "metadata": {},
      "outputs": [
        {
          "name": "stdout",
          "output_type": "stream",
          "text": [
            "Copying: Atlanta-Land_Use_wYears.gif\n",
            "Z:\\OutreachMaterials\\Google\\Geo_for_Good_2023\\02_PlenaryPresentation\\example_areas_2023-9\\basic_gifs\\Atlanta-Land_Use_wYears.gif ../assets/images\\Atlanta-Land_Use_wYears.gif\n",
            "Copying: Great_Salt_Lake-Land_Cover_wYears.gif\n",
            "Z:\\OutreachMaterials\\Google\\Geo_for_Good_2023\\02_PlenaryPresentation\\example_areas_2023-9\\basic_gifs\\Great_Salt_Lake-Land_Cover_wYears.gif ../assets/images\\Great_Salt_Lake-Land_Cover_wYears.gif\n",
            "Copying: Northern_Colorado-Change_wYears.gif\n",
            "Z:\\OutreachMaterials\\Google\\Geo_for_Good_2023\\02_PlenaryPresentation\\example_areas_2023-9\\basic_gifs\\Northern_Colorado-Change_wYears.gif ../assets/images\\Northern_Colorado-Change_wYears.gif\n",
            "Copying: Columbia_Glacier-Land_Cover_wYears.gif\n",
            "Z:\\OutreachMaterials\\Google\\Geo_for_Good_2023\\02_PlenaryPresentation\\example_areas_2023-9\\basic_gifs\\Columbia_Glacier-Land_Cover_wYears.gif ../assets/images\\Columbia_Glacier-Land_Cover_wYears.gif\n",
            "Copying: Lake_Mead-Land_Cover_wYears.gif\n",
            "Z:\\OutreachMaterials\\Google\\Geo_for_Good_2023\\02_PlenaryPresentation\\example_areas_2023-9\\basic_gifs\\Lake_Mead-Land_Cover_wYears.gif ../assets/images\\Lake_Mead-Land_Cover_wYears.gif\n",
            "Copying: Oregon_Wildfire-Change_wYears.gif\n",
            "Z:\\OutreachMaterials\\Google\\Geo_for_Good_2023\\02_PlenaryPresentation\\example_areas_2023-9\\basic_gifs\\Oregon_Wildfire-Change_wYears.gif ../assets/images\\Oregon_Wildfire-Change_wYears.gif\n",
            "Copying: Las_Vegas-Land_Use_wYears.gif\n",
            "Z:\\OutreachMaterials\\Google\\Geo_for_Good_2023\\02_PlenaryPresentation\\example_areas_2023-9\\basic_gifs\\Las_Vegas-Land_Use_wYears.gif ../assets/images\\Las_Vegas-Land_Use_wYears.gif\n",
            "Copying: Fountain_Wildfire-Change_wYears.gif\n",
            "Z:\\OutreachMaterials\\Google\\Geo_for_Good_2023\\02_PlenaryPresentation\\example_areas_2023-9\\basic_gifs\\Fountain_Wildfire-Change_wYears.gif ../assets/images\\Fountain_Wildfire-Change_wYears.gif\n",
            "Copying: Denver-Land_Use_wYears.gif\n",
            "Z:\\OutreachMaterials\\Google\\Geo_for_Good_2023\\02_PlenaryPresentation\\example_areas_2023-9\\basic_gifs\\Denver-Land_Use_wYears.gif ../assets/images\\Denver-Land_Use_wYears.gif\n"
          ]
        }
      ],
      "source": [
        "# Move gifs\n",
        "from_dir = r'Z:\\OutreachMaterials\\Google\\Geo_for_Good_2023\\02_PlenaryPresentation\\example_areas_2023-9\\basic_gifs'\n",
        "\n",
        "which_ones = ['Atlanta-Land_Use_wYears.gif','Great_Salt_Lake-Land_Cover_wYears.gif','Northern_Colorado-Change_wYears.gif','Columbia_Glacier-Land_Cover_wYears.gif','Lake_Mead-Land_Cover_wYears.gif','Oregon_Wildfire-Change_wYears.gif','Las_Vegas-Land_Use_wYears.gif','Fountain_Wildfire-Change_wYears.gif','Denver-Land_Use_wYears.gif']\n",
        "\n",
        "for w in which_ones:\n",
        "    print('Copying:',os.path.basename(w))\n",
        "    input = os.path.join(from_dir,os.path.basename(w))\n",
        "    \n",
        "    output = os.path.join(output_folder,os.path.basename(w))\n",
        "    print(input,output)\n",
        "    shutil.copy2(input,output)"
      ]
    }
  ],
  "metadata": {
    "colab": {
      "include_colab_link": true,
      "provenance": []
    },
    "kernelspec": {
      "display_name": "Python 3",
      "name": "python3"
    },
    "language_info": {
      "codemirror_mode": {
        "name": "ipython",
        "version": 3
      },
      "file_extension": ".py",
      "mimetype": "text/x-python",
      "name": "python",
      "nbconvert_exporter": "python",
      "pygments_lexer": "ipython3",
      "version": "3.11.4"
    }
  },
  "nbformat": 4,
  "nbformat_minor": 0
}
