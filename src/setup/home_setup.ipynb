{
  "cells": [
    {
      "cell_type": "markdown",
      "metadata": {},
      "source": [
        "# LCMS CONUS Image Download Setup\n",
        "This notebook sets up the environment and parameters for downloading and visualizing LCMS CONUS images, including land cover, land use, and change detection outputs."
      ]
    },
    {
      "cell_type": "code",
      "execution_count": 1,
      "metadata": {
        "id": "fmzT0LcaCZOv"
      },
      "outputs": [],
      "source": [
        "# Import required libraries and initialize Earth Engine\n",
        "import ee,requests,os,sys,shutil,threading\n",
        "from IPython.display import Image\n",
        "ee.Initialize(project='lcms-292214',)\n",
        "\n",
        "# Import geeViz libraries\n",
        "import geeViz.getImagesLib as gil\n",
        "import geeViz.changeDetectionLib as cdl\n",
        "Map = gil.Map\n",
        "\n",
        "# Set output folder and version\n",
        "output_folder = '../assets/images'\n",
        "version = '2024-10'\n",
        "# Define output file paths\n",
        "# conus_loss = os.path.join(output_folder,f'CONUS_v{version}_Change_Loss.png')\n",
        "# conus_loss_gain = os.path.join(output_folder,f'CONUS_v{version}_Change_Loss_Gain.png')\n",
        "# conus_change = os.path.join(output_folder,f'CONUS_v{version}_Change.png')\n",
        "# conus_lc = os.path.join(output_folder,f'CONUS_v{version}_Land_Cover.png')\n",
        "# conus_lc3 = os.path.join(output_folder,f'CONUS_v{version}_Land_Cover3.png')\n",
        "# conus_lu = os.path.join(output_folder,f'CONUS_v{version}_Land_Use.png')"
      ]
    },
    {
      "cell_type": "markdown",
      "metadata": {},
      "source": [
        "## Visualization Parameters\n",
        "Define the color palettes, class names, and values for the different LCMS outputs (Change, Land Cover, Land Use)."
      ]
    },
    {
      "cell_type": "code",
      "execution_count": 2,
      "metadata": {},
      "outputs": [],
      "source": [
        "# Visualization parameters for LCMS outputs\n",
        "viz = {\n",
        "    # Change class names, palettes, and values\n",
        "    \"Change_class_names\": [\n",
        "        \"Wind\",\n",
        "        \"Hurricane\",\n",
        "        \"Snow or Ice Transition\",\n",
        "        \"Desiccation\",\n",
        "        \"Inundation\",\n",
        "        \"Prescribed Fire\",\n",
        "        \"Wildfire\",\n",
        "        \"Mechanical Land Transformation\",\n",
        "        \"Tree Removal\",\n",
        "        \"Defoliation\",\n",
        "        \"Southern Pine Beetle\",\n",
        "        \"Insect, Disease, or Drought Stress\",\n",
        "        \"Other Loss\",\n",
        "        \"Vegetation Successional Growth\",\n",
        "        \"Stable\",\n",
        "        \"Non-Processing Area Mask\"\n",
        "    ],\n",
        "    \"Change_class_palette\": [\n",
        "        \"FF09F3\",\n",
        "        \"541AFF\",\n",
        "        \"E4F5FD\",\n",
        "        \"CC982E\",\n",
        "        \"0ADAFF\",\n",
        "        \"A10018\",\n",
        "        \"D54309\",\n",
        "        \"FAFA4B\",\n",
        "        \"AFDE1C\",\n",
        "        \"FFC80D\",\n",
        "        \"A64C28\",\n",
        "        \"F39268\",\n",
        "        \"C291D5\",\n",
        "        \"00A398\",\n",
        "        \"3D4551\",\n",
        "        \"1B1716\"\n",
        "    ],\n",
        "    \"Change_class_values\": [\n",
        "        1,\n",
        "        2,\n",
        "        3,\n",
        "        4,\n",
        "        5,\n",
        "        6,\n",
        "        7,\n",
        "        8,\n",
        "        9,\n",
        "        10,\n",
        "        11,\n",
        "        12,\n",
        "        13,\n",
        "        14,\n",
        "        15,\n",
        "        16\n",
        "    ],\n",
        "    # Land Cover 3-class names, palettes, and values\n",
        "    \"Land_Cover3_class_names\": [\n",
        "        \"Tree\",\n",
        "        \"Shrub\",\n",
        "        \"Grass/Forb/Herb\",\n",
        "        \"Barren or Impervious\",\n",
        "        \"Snow or Ice\",\n",
        "        \"Water\",\n",
        "        \"Non-Processing Area Mask\"\n",
        "    ],\n",
        "    \"Land_Cover3_class_palette\": [\n",
        "        \"004E2B\",\n",
        "        \"F89A1C\",\n",
        "        \"E5E98A\",\n",
        "        \"893F54\",\n",
        "        \"E4F5FD\",\n",
        "        \"00B6F0\",\n",
        "        \"1B1716\"\n",
        "    ],\n",
        "    \"Land_Cover3_class_values\": [\n",
        "        1,\n",
        "        2,\n",
        "        3,\n",
        "        4,\n",
        "        5,\n",
        "        6,\n",
        "        7\n",
        "    ],\n",
        "    # Land Cover class names, palettes, and values\n",
        "    \"Land_Cover_class_names\": [\n",
        "        \"Tree\",\n",
        "        \"Tall Shrub & Tree Mix (AK Only)\",\n",
        "        \"Shrub & Tree Mix\",\n",
        "        \"Grass/Forb/Herb & Tree Mix\",\n",
        "        \"Barren & Tree Mix\",\n",
        "        \"Tall Shrub (AK Only)\",\n",
        "        \"Shrub\",\n",
        "        \"Grass/Forb/Herb & Shrub Mix\",\n",
        "        \"Barren & Shrub Mix\",\n",
        "        \"Grass/Forb/Herb\",\n",
        "        \"Barren & Grass/Forb/Herb Mix\",\n",
        "        \"Barren or Impervious\",\n",
        "        \"Snow or Ice\",\n",
        "        \"Water\",\n",
        "        \"Non-Processing Area Mask\"\n",
        "    ],\n",
        "    \"Land_Cover_class_palette\": [\n",
        "        \"004E2B\",\n",
        "        \"009344\",\n",
        "        \"61BB46\",\n",
        "        \"ACBB67\",\n",
        "        \"8B8560\",\n",
        "        \"CAFD4B\",\n",
        "        \"F89A1C\",\n",
        "        \"8FA55F\",\n",
        "        \"BEBB8E\",\n",
        "        \"E5E98A\",\n",
        "        \"DDB925\",\n",
        "        \"893F54\",\n",
        "        \"E4F5FD\",\n",
        "        \"00B6F0\",\n",
        "        \"1B1716\"\n",
        "    ],\n",
        "    \"Land_Cover_class_values\": [\n",
        "        1,\n",
        "        2,\n",
        "        3,\n",
        "        4,\n",
        "        5,\n",
        "        6,\n",
        "        7,\n",
        "        8,\n",
        "        9,\n",
        "        10,\n",
        "        11,\n",
        "        12,\n",
        "        13,\n",
        "        14,\n",
        "        15\n",
        "    ],\n",
        "    # Land Use class names, palettes, and values\n",
        "    \"Land_Use_class_names\": [\n",
        "        \"Agriculture\",\n",
        "        \"Developed\",\n",
        "        \"Forest\",\n",
        "        \"Other\",\n",
        "        \"Rangeland or Pasture\",\n",
        "        \"Non-Processing Area Mask\"\n",
        "    ],\n",
        "    \"Land_Use_class_palette\": [\n",
        "        \"FBFF97\",\n",
        "        \"E6558B\",\n",
        "        \"004E2B\",\n",
        "        \"9DBAC5\",\n",
        "        \"A6976A\",\n",
        "        \"1B1716\"\n",
        "    ],\n",
        "    \"Land_Use_class_values\": [\n",
        "        1,\n",
        "        2,\n",
        "        3,\n",
        "        4,\n",
        "        5,\n",
        "        6\n",
        "    ]\n",
        "}"
      ]
    },
    {
      "cell_type": "markdown",
      "metadata": {},
      "source": [
        "## Prepare and Visualize CONUS Change Image\n",
        "Load the composite and LCMS image collections, apply masks, visualize, and start downloading the CONUS change image."
      ]
    },
    {
      "cell_type": "code",
      "execution_count": 40,
      "metadata": {
        "id": "9yBHahoeCdlT"
      },
      "outputs": [
        {
          "name": "stdout",
          "output_type": "stream",
          "text": [
            "Adding layer: Comp Raw\n",
            "Adding layer: Comp Raw Contracted\n",
            "Adding layer: MSK\n",
            "Adding layer: All Change\n",
            "https://earthengine.googleapis.com/v1/projects/lcms-292214/thumbnails/fdd802c68e29e21f8536aacdb37da72d-13283e054a2eae8c5ef2ab59c62b00f7:getPixels\n"
          ]
        },
        {
          "data": {
            "text/html": [
              "<img src=\"https://earthengine.googleapis.com/v1/projects/lcms-292214/thumbnails/fdd802c68e29e21f8536aacdb37da72d-13283e054a2eae8c5ef2ab59c62b00f7:getPixels\"/>"
            ],
            "text/plain": [
              "<IPython.core.display.Image object>"
            ]
          },
          "metadata": {},
          "output_type": "display_data"
        },
        {
          "name": "stdout",
          "output_type": "stream",
          "text": [
            "Adding layer: Comp Raw\n",
            "Adding layer: Comp Raw Contracted\n",
            "Adding layer: MSK\n",
            "Adding layer: All Change\n",
            "https://earthengine.googleapis.com/v1/projects/lcms-292214/thumbnails/2a4e709af2186580fc50475947b42b89-f7dd05ad1239cef3a8d93a13da14e1b7:getPixels\n"
          ]
        },
        {
          "data": {
            "text/html": [
              "<img src=\"https://earthengine.googleapis.com/v1/projects/lcms-292214/thumbnails/2a4e709af2186580fc50475947b42b89-f7dd05ad1239cef3a8d93a13da14e1b7:getPixels\"/>"
            ],
            "text/plain": [
              "<IPython.core.display.Image object>"
            ]
          },
          "metadata": {},
          "output_type": "display_data"
        },
        {
          "name": "stdout",
          "output_type": "stream",
          "text": [
            "Adding layer: Comp Raw\n",
            "Adding layer: Comp Raw Contracted\n",
            "Adding layer: MSK\n",
            "Adding layer: All Change\n",
            "https://earthengine.googleapis.com/v1/projects/lcms-292214/thumbnails/000b2d5be119a0ba168e57869a97a850-e3aab599d0e3ea25b3d36a5afd20086d:getPixels\n"
          ]
        },
        {
          "data": {
            "text/html": [
              "<img src=\"https://earthengine.googleapis.com/v1/projects/lcms-292214/thumbnails/000b2d5be119a0ba168e57869a97a850-e3aab599d0e3ea25b3d36a5afd20086d:getPixels\"/>"
            ],
            "text/plain": [
              "<IPython.core.display.Image object>"
            ]
          },
          "metadata": {},
          "output_type": "display_data"
        },
        {
          "name": "stdout",
          "output_type": "stream",
          "text": [
            "Adding layer: Comp Raw\n",
            "Adding layer: Comp Raw Contracted\n",
            "Adding layer: MSK\n",
            "Adding layer: All Change\n",
            "https://earthengine.googleapis.com/v1/projects/lcms-292214/thumbnails/a8da23b253b1db1026141c741224ae50-1c9063b8dab82671498c28368eebb179:getPixels\n"
          ]
        },
        {
          "data": {
            "text/html": [
              "<img src=\"https://earthengine.googleapis.com/v1/projects/lcms-292214/thumbnails/a8da23b253b1db1026141c741224ae50-1c9063b8dab82671498c28368eebb179:getPixels\"/>"
            ],
            "text/plain": [
              "<IPython.core.display.Image object>"
            ]
          },
          "metadata": {},
          "output_type": "display_data"
        }
      ],
      "source": [
        "# Get CONUS Loss and Loss+Gain images\n",
        "\n",
        "\n",
        "dem = ee.Image(\"USGS/3DEP/10m\").resample(\"bicubic\")\n",
        "hillshade = ee.Terrain.hillshade(dem)\n",
        "\n",
        "\n",
        "\n",
        "# Get composite image for CONUS\n",
        "comp_collections = {\"CONUS\":\"projects/lcms-tcc-shared/assets/CONUS/Composites/Composite-Collection-yesL7\",\n",
        "      \"AK\":\"projects/lcms-tcc-shared/assets/OCONUS/R10/AK/Composites/Composite-Collection\",\n",
        "      \"PRUSVI\":\"projects/lcms-tcc-shared/assets/OCONUS/R8/PR_USVI/Composites/Composite-Collection\",\n",
        "      \"HAWAII\":\"projects/lcms-tcc-shared/assets/OCONUS/Hawaii/Composites/Composite-Collection1988-2023\",}\n",
        "lcms_collections = {\"CONUS\":\"projects/lcms-292214/assets/Final_Outputs/2024-10/LCMS\",\n",
        "                    \"AK\":\"projects/lcms-292214/assets/Final_Outputs/2024-10/LCMS\",\n",
        "                    \"PRUSVI\":\"USFS/GTAC/LCMS/v2023-9\",\n",
        "                    \"HAWAII\":\"USFS/GTAC/LCMS/v2023-9\",}\n",
        "\n",
        "change_buffer={'CONUS':1,\n",
        "                'AK':0,\n",
        "                'PRUSVI':0,\n",
        "                'HAWAII':1,}\n",
        "change_reduce_res_max_pixels={'CONUS':8,\n",
        "                'AK':5,\n",
        "                'PRUSVI':4,\n",
        "                'HAWAII':4,}\n",
        "\n",
        "comp_viz = {\n",
        "   'CONUS': {'min': 100, 'max': [5000.0, 5000.0, 4400.0], 'bands': 'red,green,blue',},\n",
        "   'AK': {'min': 50, 'max': [3500.0, 3500.0, 3800.0], 'bands': 'red,green,blue',},\n",
        "    'PRUSVI': {'min': 50, 'max': [3500.0, 3500.0, 3800.0], 'bands': 'red,green,blue',},\n",
        "    'HAWAII': {'min': 50, 'max': [3000.0, 3000.0, 3500.0], 'bands': 'red,green,blue',},\n",
        "}\n",
        "\n",
        "\n",
        "\n",
        "#####################################################################################\n",
        "def downloadImage(url, filename):\n",
        "    \"\"\"Downloads an image from a URL and saves it to a file.\n",
        "\n",
        "    Args:\n",
        "        url (str): Image URL.\n",
        "        filename (str): Output file path.\n",
        "    \"\"\"\n",
        "    img_data = requests.get(url).content\n",
        "    with open(filename, 'wb') as handler:\n",
        "        handler.write(img_data)\n",
        "\n",
        "\n",
        "def downloadChangePng(sa_name,size=1000):\n",
        "  output_name_change = os.path.join(output_folder,f'{sa_name}_v{version}_Change.png')\n",
        "\n",
        "  comp = ee.ImageCollection(comp_collections[sa_name])\\\n",
        "  .filter(ee.Filter.calendarRange(2021,2024,'year')).mean()\n",
        "\n",
        "  Map.clearMap()\n",
        "  Map.addLayer(comp,comp_viz[sa_name],'Comp Raw')\n",
        "\n",
        "  # Load LCMS image collection and set visualization parameters\n",
        "  lcms = ee.ImageCollection(lcms_collections[sa_name]).filter(f\"study_area=='{sa_name}'\")\n",
        "  sa = lcms.first().geometry()\n",
        "  projection = lcms.first().projection().getInfo()\n",
        "  crs = projection['wkt']\n",
        "  transform = projection['transform']\n",
        "  if sa_name == 'CONUS' or sa_name == 'AK':\n",
        "      lcms = lcms.map(lambda img:img.set(viz))\n",
        "\n",
        "\n",
        "\n",
        "  # Create mask for valid data\n",
        "  msk = lcms.first().select([0]).mask()\n",
        "  msk = msk.focal_min(1.5,'circle','pixels')\n",
        "\n",
        "  # Mask composite image\n",
        "  comp = comp.updateMask(msk)\n",
        "  comp = comp.visualize(**comp_viz[sa_name])\n",
        "\n",
        "  Map.addLayer(comp,{},'Comp Raw Contracted')\n",
        "  Map.addLayer(msk,{},'MSK')\n",
        "\n",
        "  # Get properties and visualize Land Cover and Land Use\n",
        "  props = lcms.first().toDictionary()\n",
        "  lc = lcms.select(['Land_Cover']).sort('system:time_start',False).first().set(props).setDefaultProjection(crs,transform).visualize()\n",
        "  lu = lcms.select(['Land_Use']).sort('system:time_start',False).first().set(props).setDefaultProjection(crs,transform).visualize()\n",
        "\n",
        "  # Get minimum change image and mask\n",
        "\n",
        "  if sa_name == 'CONUS' or sa_name == 'AK':\n",
        "    all_change = lcms.select(['Change']).min()\n",
        "    all_change = all_change.setDefaultProjection(crs,transform)\n",
        "\n",
        "    change_msk = all_change.lte(14)\n",
        "  else:\n",
        "    all_change = lcms.select(['Change'])\n",
        "    all_change = all_change.map(lambda img:img.updateMask(img.gt(1).And(img.lt(5)))).min()\n",
        "    all_change = all_change.setDefaultProjection(crs,transform)\n",
        "    change_msk = all_change.gt(1).And(all_change.lt(5))\n",
        "  all_change = all_change.updateMask(change_msk).reduceResolution(ee.Reducer.min(),True,change_reduce_res_max_pixels[sa_name]).updateMask(change_msk.focal_max(change_buffer[sa_name]).And(msk))\n",
        "  all_change = all_change.set(props).visualize()\n",
        "\n",
        "  all_change_msk = all_change.mask()\n",
        "  all_change = all_change.unmask(comp)\n",
        "  Map.addLayer(all_change,{},'All Change')\n",
        "  Map.turnOnInspector()\n",
        "\n",
        "  # Set parameters for thumbnail download\n",
        "  params = {\n",
        "    'region': sa.bounds(500,crs),\n",
        "    'dimensions': size,\n",
        "    'crs': crs,\n",
        "    'transform':transform\n",
        "  }\n",
        "\n",
        "  # Download all change image as thumbnail\n",
        "  all_change_url = all_change.getThumbURL(params)\n",
        "  t = threading.Thread(target = downloadImage,args=(all_change_url,output_name_change))\n",
        "  t.start()\n",
        "  print(all_change_url)\n",
        "  display(Image(url=all_change_url))\n",
        "\n",
        "\n",
        "for sa_name in comp_collections.keys():\n",
        "  downloadChangePng(sa_name)"
      ]
    },
    {
      "cell_type": "markdown",
      "metadata": {},
      "source": [
        "## Check Active Threads\n",
        "Print the number of active threads (for monitoring downloads)."
      ]
    },
    {
      "cell_type": "code",
      "execution_count": 5,
      "metadata": {},
      "outputs": [
        {
          "name": "stdout",
          "output_type": "stream",
          "text": [
            "7\n"
          ]
        }
      ],
      "source": [
        "# Print the number of active threads (for monitoring downloads)\n",
        "print(threading.active_count())"
      ]
    },
    {
      "cell_type": "code",
      "execution_count": 45,
      "metadata": {},
      "outputs": [
        {
          "name": "stdout",
          "output_type": "stream",
          "text": [
            "https://earthengine.googleapis.com/v1/projects/lcms-292214/thumbnails/c235ce6b30162dbff4cb9e4cb966d842-70b79281fb5655ccbc0845c719f26ed6:getPixels\n"
          ]
        },
        {
          "data": {
            "text/html": [
              "<img src=\"https://earthengine.googleapis.com/v1/projects/lcms-292214/thumbnails/c235ce6b30162dbff4cb9e4cb966d842-70b79281fb5655ccbc0845c719f26ed6:getPixels\"/>"
            ],
            "text/plain": [
              "<IPython.core.display.Image object>"
            ]
          },
          "metadata": {},
          "output_type": "display_data"
        },
        {
          "name": "stdout",
          "output_type": "stream",
          "text": [
            "https://earthengine.googleapis.com/v1/projects/lcms-292214/thumbnails/a10da02b953540231449bcfd7b586cb1-af138daeb3321f3f34e18319785bb230:getPixels\n"
          ]
        },
        {
          "data": {
            "text/html": [
              "<img src=\"https://earthengine.googleapis.com/v1/projects/lcms-292214/thumbnails/a10da02b953540231449bcfd7b586cb1-af138daeb3321f3f34e18319785bb230:getPixels\"/>"
            ],
            "text/plain": [
              "<IPython.core.display.Image object>"
            ]
          },
          "metadata": {},
          "output_type": "display_data"
        },
        {
          "name": "stdout",
          "output_type": "stream",
          "text": [
            "https://earthengine.googleapis.com/v1/projects/lcms-292214/thumbnails/64ba1d97b091f70591b42f597d62d004-e6d7a5db391266dbfc67bf2554bea14c:getPixels\n"
          ]
        },
        {
          "data": {
            "text/html": [
              "<img src=\"https://earthengine.googleapis.com/v1/projects/lcms-292214/thumbnails/64ba1d97b091f70591b42f597d62d004-e6d7a5db391266dbfc67bf2554bea14c:getPixels\"/>"
            ],
            "text/plain": [
              "<IPython.core.display.Image object>"
            ]
          },
          "metadata": {},
          "output_type": "display_data"
        },
        {
          "name": "stdout",
          "output_type": "stream",
          "text": [
            "https://earthengine.googleapis.com/v1/projects/lcms-292214/thumbnails/bced5b0273a82a0b332f2ad3ca254e14-7968471fc2ffe0840a43bc04999a0527:getPixels\n"
          ]
        },
        {
          "data": {
            "text/html": [
              "<img src=\"https://earthengine.googleapis.com/v1/projects/lcms-292214/thumbnails/bced5b0273a82a0b332f2ad3ca254e14-7968471fc2ffe0840a43bc04999a0527:getPixels\"/>"
            ],
            "text/plain": [
              "<IPython.core.display.Image object>"
            ]
          },
          "metadata": {},
          "output_type": "display_data"
        },
        {
          "name": "stdout",
          "output_type": "stream",
          "text": [
            "https://earthengine.googleapis.com/v1/projects/lcms-292214/thumbnails/ea12345038c50e3005dc56d651875977-9896c19817430182437df666ac1144ae:getPixels\n"
          ]
        },
        {
          "data": {
            "text/html": [
              "<img src=\"https://earthengine.googleapis.com/v1/projects/lcms-292214/thumbnails/ea12345038c50e3005dc56d651875977-9896c19817430182437df666ac1144ae:getPixels\"/>"
            ],
            "text/plain": [
              "<IPython.core.display.Image object>"
            ]
          },
          "metadata": {},
          "output_type": "display_data"
        },
        {
          "name": "stdout",
          "output_type": "stream",
          "text": [
            "https://earthengine.googleapis.com/v1/projects/lcms-292214/thumbnails/51e756382c27a3ac9ada2f9b232b11f5-9da6a779a675076ec5c2e73cd2be49d5:getPixels\n"
          ]
        },
        {
          "data": {
            "text/html": [
              "<img src=\"https://earthengine.googleapis.com/v1/projects/lcms-292214/thumbnails/51e756382c27a3ac9ada2f9b232b11f5-9da6a779a675076ec5c2e73cd2be49d5:getPixels\"/>"
            ],
            "text/plain": [
              "<IPython.core.display.Image object>"
            ]
          },
          "metadata": {},
          "output_type": "display_data"
        },
        {
          "name": "stdout",
          "output_type": "stream",
          "text": [
            "https://earthengine.googleapis.com/v1/projects/lcms-292214/thumbnails/d0666e07d945eeec7c34258e59a9baef-3ac061606f34d581536135e659d34ea5:getPixels\n"
          ]
        },
        {
          "data": {
            "text/html": [
              "<img src=\"https://earthengine.googleapis.com/v1/projects/lcms-292214/thumbnails/d0666e07d945eeec7c34258e59a9baef-3ac061606f34d581536135e659d34ea5:getPixels\"/>"
            ],
            "text/plain": [
              "<IPython.core.display.Image object>"
            ]
          },
          "metadata": {},
          "output_type": "display_data"
        },
        {
          "name": "stdout",
          "output_type": "stream",
          "text": [
            "https://earthengine.googleapis.com/v1/projects/lcms-292214/thumbnails/455e09807cc6bb49beb4eba8be16cf63-c9e53829d2891155812cfb92c97947ba:getPixels\n"
          ]
        },
        {
          "data": {
            "text/html": [
              "<img src=\"https://earthengine.googleapis.com/v1/projects/lcms-292214/thumbnails/455e09807cc6bb49beb4eba8be16cf63-c9e53829d2891155812cfb92c97947ba:getPixels\"/>"
            ],
            "text/plain": [
              "<IPython.core.display.Image object>"
            ]
          },
          "metadata": {},
          "output_type": "display_data"
        }
      ],
      "source": [
        "# Download Land Cover and Land Use images\n",
        "\n",
        "def downloadLULCPng(sa_name,size=1000):\n",
        "    lcms = ee.ImageCollection(lcms_collections[sa_name]).filter(f\"study_area=='{sa_name}'\")\n",
        "    sa = lcms.first().geometry()\n",
        "    projection = lcms.first().projection().getInfo()\n",
        "    crs = projection['wkt']\n",
        "    transform = projection['transform']\n",
        "\n",
        "    if sa_name == 'CONUS' or sa_name == 'AK':\n",
        "        lcms = lcms.map(lambda img:img.set(viz))\n",
        "    params = {\n",
        "      'region': sa.bounds(500,crs),\n",
        "      'dimensions': 1000,\n",
        "      'crs': crs,\n",
        "      'transform':transform\n",
        "    }\n",
        "    for bn in ['Land_Cover','Land_Use']:\n",
        "        # Get latest Land Cover image\n",
        "        t = lcms.select([bn]).sort('system:time_start',False).first().visualize()\n",
        "\n",
        "        # Get thumbnail URL\n",
        "        url = t.getThumbURL(params)\n",
        "\n",
        "        # Download image in separate thread\n",
        "        output_name = os.path.join(output_folder,f'{sa_name}_v{version}_{bn}.png')\n",
        "        t = threading.Thread(target = downloadImage,args=(url,output_name))\n",
        "        t.start()\n",
        "        print(url)\n",
        "        display(Image(url=url))\n",
        "\n",
        "for sa_name in comp_collections.keys():\n",
        "    downloadLULCPng(sa_name,size=1000)"
      ]
    },
    {
      "cell_type": "markdown",
      "metadata": {},
      "source": [
        "## Move Example GIFs to Assets Folder\n",
        "Copy example GIFs from a source directory to the assets folder for use in outreach materials."
      ]
    },
    {
      "cell_type": "code",
      "execution_count": null,
      "metadata": {},
      "outputs": [
        {
          "name": "stdout",
          "output_type": "stream",
          "text": [
            "Copying: Atlanta-Land_Use_wYears.gif\n",
            "Z:\\OutreachMaterials\\Google\\Geo_for_Good_2023\\02_PlenaryPresentation\\example_areas_2023-9\\basic_gifs\\Atlanta-Land_Use_wYears.gif ../assets/images\\Atlanta-Land_Use_wYears.gif\n",
            "Copying: Great_Salt_Lake-Land_Cover_wYears.gif\n",
            "Z:\\OutreachMaterials\\Google\\Geo_for_Good_2023\\02_PlenaryPresentation\\example_areas_2023-9\\basic_gifs\\Great_Salt_Lake-Land_Cover_wYears.gif ../assets/images\\Great_Salt_Lake-Land_Cover_wYears.gif\n",
            "Copying: Northern_Colorado-Change_wYears.gif\n",
            "Z:\\OutreachMaterials\\Google\\Geo_for_Good_2023\\02_PlenaryPresentation\\example_areas_2023-9\\basic_gifs\\Northern_Colorado-Change_wYears.gif ../assets/images\\Northern_Colorado-Change_wYears.gif\n",
            "Copying: Columbia_Glacier-Land_Cover_wYears.gif\n",
            "Z:\\OutreachMaterials\\Google\\Geo_for_Good_2023\\02_PlenaryPresentation\\example_areas_2023-9\\basic_gifs\\Columbia_Glacier-Land_Cover_wYears.gif ../assets/images\\Columbia_Glacier-Land_Cover_wYears.gif\n",
            "Copying: Lake_Mead-Land_Cover_wYears.gif\n",
            "Z:\\OutreachMaterials\\Google\\Geo_for_Good_2023\\02_PlenaryPresentation\\example_areas_2023-9\\basic_gifs\\Lake_Mead-Land_Cover_wYears.gif ../assets/images\\Lake_Mead-Land_Cover_wYears.gif\n",
            "Copying: Oregon_Wildfire-Change_wYears.gif\n",
            "Z:\\OutreachMaterials\\Google\\Geo_for_Good_2023\\02_PlenaryPresentation\\example_areas_2023-9\\basic_gifs\\Oregon_Wildfire-Change_wYears.gif ../assets/images\\Oregon_Wildfire-Change_wYears.gif\n",
            "Copying: Las_Vegas-Land_Use_wYears.gif\n",
            "Z:\\OutreachMaterials\\Google\\Geo_for_Good_2023\\02_PlenaryPresentation\\example_areas_2023-9\\basic_gifs\\Las_Vegas-Land_Use_wYears.gif ../assets/images\\Las_Vegas-Land_Use_wYears.gif\n",
            "Copying: Fountain_Wildfire-Change_wYears.gif\n",
            "Z:\\OutreachMaterials\\Google\\Geo_for_Good_2023\\02_PlenaryPresentation\\example_areas_2023-9\\basic_gifs\\Fountain_Wildfire-Change_wYears.gif ../assets/images\\Fountain_Wildfire-Change_wYears.gif\n",
            "Copying: Denver-Land_Use_wYears.gif\n",
            "Z:\\OutreachMaterials\\Google\\Geo_for_Good_2023\\02_PlenaryPresentation\\example_areas_2023-9\\basic_gifs\\Denver-Land_Use_wYears.gif ../assets/images\\Denver-Land_Use_wYears.gif\n"
          ]
        }
      ],
      "source": [
        "# Move gifs from gif folder to assets folder\n",
        "from_dir = r'Z:\\OutreachMaterials\\Google\\Geo_for_Good_2023\\02_PlenaryPresentation\\example_areas_2023-9\\basic_gifs'\n",
        "\n",
        "which_ones = ['Atlanta-Land_Use_wYears.gif','Great_Salt_Lake-Land_Cover_wYears.gif','Northern_Colorado-Change_wYears.gif','Columbia_Glacier-Land_Cover_wYears.gif','Lake_Mead-Land_Cover_wYears.gif','Oregon_Wildfire-Change_wYears.gif','Las_Vegas-Land_Use_wYears.gif','Fountain_Wildfire-Change_wYears.gif','Denver-Land_Use_wYears.gif']\n",
        "\n",
        "for w in which_ones:\n",
        "    # Copy each gif to the output folder\n",
        "    print('Copying:',os.path.basename(w))\n",
        "    input = os.path.join(from_dir,os.path.basename(w))\n",
        "    output = os.path.join(output_folder,os.path.basename(w))\n",
        "    print(input,output)\n",
        "    shutil.copy2(input,output)"
      ]
    }
  ],
  "metadata": {
    "colab": {
      "include_colab_link": true,
      "provenance": []
    },
    "kernelspec": {
      "display_name": "venv",
      "language": "python",
      "name": "python3"
    },
    "language_info": {
      "codemirror_mode": {
        "name": "ipython",
        "version": 3
      },
      "file_extension": ".py",
      "mimetype": "text/x-python",
      "name": "python",
      "nbconvert_exporter": "python",
      "pygments_lexer": "ipython3",
      "version": "3.12.0"
    }
  },
  "nbformat": 4,
  "nbformat_minor": 0
}
