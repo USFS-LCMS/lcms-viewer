{
  "cells": [
    {
      "cell_type": "markdown",
      "metadata": {},
      "source": [
        "# LCMS CONUS Image Download Setup\n",
        "This notebook sets up the environment and parameters for downloading and visualizing LCMS CONUS images, including land cover, land use, and change detection outputs."
      ]
    },
    {
      "cell_type": "code",
      "execution_count": 1,
      "metadata": {
        "id": "fmzT0LcaCZOv"
      },
      "outputs": [],
      "source": [
        "# Import required libraries and initialize Earth Engine\n",
        "import ee,requests,os,sys,shutil,threading\n",
        "from IPython.display import Image\n",
        "ee.Initialize(project='lcms-292214',)\n",
        "\n",
        "# Import geeViz libraries\n",
        "import geeViz.getImagesLib as gil\n",
        "import geeViz.changeDetectionLib as cdl\n",
        "Map = gil.Map\n",
        "\n",
        "# Set output folder and version\n",
        "output_folder = '../assets/images'\n",
        "version = '2024-10'\n",
        "# Define output file paths\n",
        "conus_loss = os.path.join(output_folder,f'CONUS_v{version}_Change_Loss.png')\n",
        "conus_loss_gain = os.path.join(output_folder,f'CONUS_v{version}_Change_Loss_Gain.png')\n",
        "conus_change = os.path.join(output_folder,f'CONUS_v{version}_Change.png')\n",
        "conus_lc = os.path.join(output_folder,f'CONUS_v{version}_Land_Cover.png')\n",
        "conus_lc3 = os.path.join(output_folder,f'CONUS_v{version}_Land_Cover3.png')\n",
        "conus_lu = os.path.join(output_folder,f'CONUS_v{version}_Land_Use.png')"
      ]
    },
    {
      "cell_type": "markdown",
      "metadata": {},
      "source": [
        "## Visualization Parameters\n",
        "Define the color palettes, class names, and values for the different LCMS outputs (Change, Land Cover, Land Use)."
      ]
    },
    {
      "cell_type": "code",
      "execution_count": 3,
      "metadata": {},
      "outputs": [],
      "source": [
        "# Visualization parameters for LCMS outputs\n",
        "viz = {\n",
        "    # Change class names, palettes, and values\n",
        "    \"Change_class_names\": [\n",
        "        \"Wind\",\n",
        "        \"Hurricane\",\n",
        "        \"Snow or Ice Transition\",\n",
        "        \"Desiccation\",\n",
        "        \"Inundation\",\n",
        "        \"Prescribed Fire\",\n",
        "        \"Wildfire\",\n",
        "        \"Mechanical Land Transformation\",\n",
        "        \"Tree Removal\",\n",
        "        \"Defoliation\",\n",
        "        \"Southern Pine Beetle\",\n",
        "        \"Insect, Disease, or Drought Stress\",\n",
        "        \"Other Loss\",\n",
        "        \"Vegetation Successional Growth\",\n",
        "        \"Stable\",\n",
        "        \"Non-Processing Area Mask\"\n",
        "    ],\n",
        "    \"Change_class_palette\": [\n",
        "        \"FF09F3\",\n",
        "        \"541AFF\",\n",
        "        \"E4F5FD\",\n",
        "        \"CC982E\",\n",
        "        \"0ADAFF\",\n",
        "        \"A10018\",\n",
        "        \"D54309\",\n",
        "        \"FAFA4B\",\n",
        "        \"AFDE1C\",\n",
        "        \"FFC80D\",\n",
        "        \"A64C28\",\n",
        "        \"F39268\",\n",
        "        \"C291D5\",\n",
        "        \"00A398\",\n",
        "        \"3D4551\",\n",
        "        \"1B1716\"\n",
        "    ],\n",
        "    \"Change_class_values\": [\n",
        "        1,\n",
        "        2,\n",
        "        3,\n",
        "        4,\n",
        "        5,\n",
        "        6,\n",
        "        7,\n",
        "        8,\n",
        "        9,\n",
        "        10,\n",
        "        11,\n",
        "        12,\n",
        "        13,\n",
        "        14,\n",
        "        15,\n",
        "        16\n",
        "    ],\n",
        "    # Land Cover 3-class names, palettes, and values\n",
        "    \"Land_Cover3_class_names\": [\n",
        "        \"Tree\",\n",
        "        \"Shrub\",\n",
        "        \"Grass/Forb/Herb\",\n",
        "        \"Barren or Impervious\",\n",
        "        \"Snow or Ice\",\n",
        "        \"Water\",\n",
        "        \"Non-Processing Area Mask\"\n",
        "    ],\n",
        "    \"Land_Cover3_class_palette\": [\n",
        "        \"004E2B\",\n",
        "        \"F89A1C\",\n",
        "        \"E5E98A\",\n",
        "        \"893F54\",\n",
        "        \"E4F5FD\",\n",
        "        \"00B6F0\",\n",
        "        \"1B1716\"\n",
        "    ],\n",
        "    \"Land_Cover3_class_values\": [\n",
        "        1,\n",
        "        2,\n",
        "        3,\n",
        "        4,\n",
        "        5,\n",
        "        6,\n",
        "        7\n",
        "    ],\n",
        "    # Land Cover class names, palettes, and values\n",
        "    \"Land_Cover_class_names\": [\n",
        "        \"Tree\",\n",
        "        \"Tall Shrub & Tree Mix (AK Only)\",\n",
        "        \"Shrub & Tree Mix\",\n",
        "        \"Grass/Forb/Herb & Tree Mix\",\n",
        "        \"Barren & Tree Mix\",\n",
        "        \"Tall Shrub (AK Only)\",\n",
        "        \"Shrub\",\n",
        "        \"Grass/Forb/Herb & Shrub Mix\",\n",
        "        \"Barren & Shrub Mix\",\n",
        "        \"Grass/Forb/Herb\",\n",
        "        \"Barren & Grass/Forb/Herb Mix\",\n",
        "        \"Barren or Impervious\",\n",
        "        \"Snow or Ice\",\n",
        "        \"Water\",\n",
        "        \"Non-Processing Area Mask\"\n",
        "    ],\n",
        "    \"Land_Cover_class_palette\": [\n",
        "        \"004E2B\",\n",
        "        \"009344\",\n",
        "        \"61BB46\",\n",
        "        \"ACBB67\",\n",
        "        \"8B8560\",\n",
        "        \"CAFD4B\",\n",
        "        \"F89A1C\",\n",
        "        \"8FA55F\",\n",
        "        \"BEBB8E\",\n",
        "        \"E5E98A\",\n",
        "        \"DDB925\",\n",
        "        \"893F54\",\n",
        "        \"E4F5FD\",\n",
        "        \"00B6F0\",\n",
        "        \"1B1716\"\n",
        "    ],\n",
        "    \"Land_Cover_class_values\": [\n",
        "        1,\n",
        "        2,\n",
        "        3,\n",
        "        4,\n",
        "        5,\n",
        "        6,\n",
        "        7,\n",
        "        8,\n",
        "        9,\n",
        "        10,\n",
        "        11,\n",
        "        12,\n",
        "        13,\n",
        "        14,\n",
        "        15\n",
        "    ],\n",
        "    # Land Use class names, palettes, and values\n",
        "    \"Land_Use_class_names\": [\n",
        "        \"Agriculture\",\n",
        "        \"Developed\",\n",
        "        \"Forest\",\n",
        "        \"Other\",\n",
        "        \"Rangeland or Pasture\",\n",
        "        \"Non-Processing Area Mask\"\n",
        "    ],\n",
        "    \"Land_Use_class_palette\": [\n",
        "        \"FBFF97\",\n",
        "        \"E6558B\",\n",
        "        \"004E2B\",\n",
        "        \"9DBAC5\",\n",
        "        \"A6976A\",\n",
        "        \"1B1716\"\n",
        "    ],\n",
        "    \"Land_Use_class_values\": [\n",
        "        1,\n",
        "        2,\n",
        "        3,\n",
        "        4,\n",
        "        5,\n",
        "        6\n",
        "    ]\n",
        "}"
      ]
    },
    {
      "cell_type": "markdown",
      "metadata": {},
      "source": [
        "## Prepare and Visualize CONUS Change Image\n",
        "Load the composite and LCMS image collections, apply masks, visualize, and start downloading the CONUS change image."
      ]
    },
    {
      "cell_type": "code",
      "execution_count": 4,
      "metadata": {
        "id": "9yBHahoeCdlT"
      },
      "outputs": [
        {
          "name": "stdout",
          "output_type": "stream",
          "text": [
            "../assets/images\\CONUS_v2024-10_Change_Loss.png\n",
            "[[[-2361585.0204712525, 259064.86686735478], [2263785.109653341, 259064.86686735478], [2263785.109653341, 3177404.865907416], [-2361585.0204712525, 3177404.865907416], [-2361585.0204712525, 259064.86686735478]]]\n",
            "[30, 0, -2361915.0, 0, -30, 3177735.0]\n",
            "Adding layer: Comp Raw\n",
            "{'type': 'Image', 'bands': [{'id': 'Change', 'data_type': {'type': 'PixelType', 'precision': 'int', 'min': 0, 'max': 255}, 'dimensions': [196082, 104128], 'crs': 'PROJCS[\"Albers_Conical_Equal_Area\", \\n  GEOGCS[\"WGS 84\", \\n    DATUM[\"WGS_1984\", \\n      SPHEROID[\"WGS 84\", 6378137.0, 298.257223563, AUTHORITY[\"EPSG\",\"7030\"]], \\n      TOWGS84[0.0, 0.0, 0.0, 0.0, 0.0, 0.0, 0.0], \\n      AUTHORITY[\"EPSG\",\"6326\"]], \\n    PRIMEM[\"Greenwich\", 0.0, AUTHORITY[\"EPSG\",\"8901\"]], \\n    UNIT[\"degree\", 0.017453292519943295], \\n    AXIS[\"Longitude\", EAST], \\n    AXIS[\"Latitude\", NORTH], \\n    AUTHORITY[\"EPSG\",\"4326\"]], \\n  PROJECTION[\"Albers_Conic_Equal_Area\"], \\n  PARAMETER[\"central_meridian\", -96.0], \\n  PARAMETER[\"latitude_of_origin\", 23.0], \\n  PARAMETER[\"standard_parallel_1\", 29.5], \\n  PARAMETER[\"false_easting\", 0.0], \\n  PARAMETER[\"false_northing\", 0.0], \\n  PARAMETER[\"standard_parallel_2\", 45.5], \\n  UNIT[\"m\", 1.0], \\n  AXIS[\"Easting\", EAST], \\n  AXIS[\"Northing\", NORTH]]', 'crs_transform': [30, 0, -2928465, 0, -30, 3265875]}, {'id': 'Land_Cover', 'data_type': {'type': 'PixelType', 'precision': 'int', 'min': 0, 'max': 255}, 'dimensions': [196082, 104128], 'crs': 'PROJCS[\"Albers_Conical_Equal_Area\", \\n  GEOGCS[\"WGS 84\", \\n    DATUM[\"WGS_1984\", \\n      SPHEROID[\"WGS 84\", 6378137.0, 298.257223563, AUTHORITY[\"EPSG\",\"7030\"]], \\n      TOWGS84[0.0, 0.0, 0.0, 0.0, 0.0, 0.0, 0.0], \\n      AUTHORITY[\"EPSG\",\"6326\"]], \\n    PRIMEM[\"Greenwich\", 0.0, AUTHORITY[\"EPSG\",\"8901\"]], \\n    UNIT[\"degree\", 0.017453292519943295], \\n    AXIS[\"Longitude\", EAST], \\n    AXIS[\"Latitude\", NORTH], \\n    AUTHORITY[\"EPSG\",\"4326\"]], \\n  PROJECTION[\"Albers_Conic_Equal_Area\"], \\n  PARAMETER[\"central_meridian\", -96.0], \\n  PARAMETER[\"latitude_of_origin\", 23.0], \\n  PARAMETER[\"standard_parallel_1\", 29.5], \\n  PARAMETER[\"false_easting\", 0.0], \\n  PARAMETER[\"false_northing\", 0.0], \\n  PARAMETER[\"standard_parallel_2\", 45.5], \\n  UNIT[\"m\", 1.0], \\n  AXIS[\"Easting\", EAST], \\n  AXIS[\"Northing\", NORTH]]', 'crs_transform': [30, 0, -2928465, 0, -30, 3265875]}, {'id': 'Land_Use', 'data_type': {'type': 'PixelType', 'precision': 'int', 'min': 0, 'max': 255}, 'dimensions': [196082, 104128], 'crs': 'PROJCS[\"Albers_Conical_Equal_Area\", \\n  GEOGCS[\"WGS 84\", \\n    DATUM[\"WGS_1984\", \\n      SPHEROID[\"WGS 84\", 6378137.0, 298.257223563, AUTHORITY[\"EPSG\",\"7030\"]], \\n      TOWGS84[0.0, 0.0, 0.0, 0.0, 0.0, 0.0, 0.0], \\n      AUTHORITY[\"EPSG\",\"6326\"]], \\n    PRIMEM[\"Greenwich\", 0.0, AUTHORITY[\"EPSG\",\"8901\"]], \\n    UNIT[\"degree\", 0.017453292519943295], \\n    AXIS[\"Longitude\", EAST], \\n    AXIS[\"Latitude\", NORTH], \\n    AUTHORITY[\"EPSG\",\"4326\"]], \\n  PROJECTION[\"Albers_Conic_Equal_Area\"], \\n  PARAMETER[\"central_meridian\", -96.0], \\n  PARAMETER[\"latitude_of_origin\", 23.0], \\n  PARAMETER[\"standard_parallel_1\", 29.5], \\n  PARAMETER[\"false_easting\", 0.0], \\n  PARAMETER[\"false_northing\", 0.0], \\n  PARAMETER[\"standard_parallel_2\", 45.5], \\n  UNIT[\"m\", 1.0], \\n  AXIS[\"Easting\", EAST], \\n  AXIS[\"Northing\", NORTH]]', 'crs_transform': [30, 0, -2928465, 0, -30, 3265875]}, {'id': 'Change_Raw_Probability_Slow_Loss', 'data_type': {'type': 'PixelType', 'precision': 'int', 'min': 0, 'max': 255}, 'dimensions': [196082, 104128], 'crs': 'PROJCS[\"Albers_Conical_Equal_Area\", \\n  GEOGCS[\"WGS 84\", \\n    DATUM[\"WGS_1984\", \\n      SPHEROID[\"WGS 84\", 6378137.0, 298.257223563, AUTHORITY[\"EPSG\",\"7030\"]], \\n      TOWGS84[0.0, 0.0, 0.0, 0.0, 0.0, 0.0, 0.0], \\n      AUTHORITY[\"EPSG\",\"6326\"]], \\n    PRIMEM[\"Greenwich\", 0.0, AUTHORITY[\"EPSG\",\"8901\"]], \\n    UNIT[\"degree\", 0.017453292519943295], \\n    AXIS[\"Longitude\", EAST], \\n    AXIS[\"Latitude\", NORTH], \\n    AUTHORITY[\"EPSG\",\"4326\"]], \\n  PROJECTION[\"Albers_Conic_Equal_Area\"], \\n  PARAMETER[\"central_meridian\", -96.0], \\n  PARAMETER[\"latitude_of_origin\", 23.0], \\n  PARAMETER[\"standard_parallel_1\", 29.5], \\n  PARAMETER[\"false_easting\", 0.0], \\n  PARAMETER[\"false_northing\", 0.0], \\n  PARAMETER[\"standard_parallel_2\", 45.5], \\n  UNIT[\"m\", 1.0], \\n  AXIS[\"Easting\", EAST], \\n  AXIS[\"Northing\", NORTH]]', 'crs_transform': [30, 0, -2928465, 0, -30, 3265875]}, {'id': 'Change_Raw_Probability_Fast_Loss', 'data_type': {'type': 'PixelType', 'precision': 'int', 'min': 0, 'max': 255}, 'dimensions': [196082, 104128], 'crs': 'PROJCS[\"Albers_Conical_Equal_Area\", \\n  GEOGCS[\"WGS 84\", \\n    DATUM[\"WGS_1984\", \\n      SPHEROID[\"WGS 84\", 6378137.0, 298.257223563, AUTHORITY[\"EPSG\",\"7030\"]], \\n      TOWGS84[0.0, 0.0, 0.0, 0.0, 0.0, 0.0, 0.0], \\n      AUTHORITY[\"EPSG\",\"6326\"]], \\n    PRIMEM[\"Greenwich\", 0.0, AUTHORITY[\"EPSG\",\"8901\"]], \\n    UNIT[\"degree\", 0.017453292519943295], \\n    AXIS[\"Longitude\", EAST], \\n    AXIS[\"Latitude\", NORTH], \\n    AUTHORITY[\"EPSG\",\"4326\"]], \\n  PROJECTION[\"Albers_Conic_Equal_Area\"], \\n  PARAMETER[\"central_meridian\", -96.0], \\n  PARAMETER[\"latitude_of_origin\", 23.0], \\n  PARAMETER[\"standard_parallel_1\", 29.5], \\n  PARAMETER[\"false_easting\", 0.0], \\n  PARAMETER[\"false_northing\", 0.0], \\n  PARAMETER[\"standard_parallel_2\", 45.5], \\n  UNIT[\"m\", 1.0], \\n  AXIS[\"Easting\", EAST], \\n  AXIS[\"Northing\", NORTH]]', 'crs_transform': [30, 0, -2928465, 0, -30, 3265875]}, {'id': 'Change_Raw_Probability_Gain', 'data_type': {'type': 'PixelType', 'precision': 'int', 'min': 0, 'max': 255}, 'dimensions': [196082, 104128], 'crs': 'PROJCS[\"Albers_Conical_Equal_Area\", \\n  GEOGCS[\"WGS 84\", \\n    DATUM[\"WGS_1984\", \\n      SPHEROID[\"WGS 84\", 6378137.0, 298.257223563, AUTHORITY[\"EPSG\",\"7030\"]], \\n      TOWGS84[0.0, 0.0, 0.0, 0.0, 0.0, 0.0, 0.0], \\n      AUTHORITY[\"EPSG\",\"6326\"]], \\n    PRIMEM[\"Greenwich\", 0.0, AUTHORITY[\"EPSG\",\"8901\"]], \\n    UNIT[\"degree\", 0.017453292519943295], \\n    AXIS[\"Longitude\", EAST], \\n    AXIS[\"Latitude\", NORTH], \\n    AUTHORITY[\"EPSG\",\"4326\"]], \\n  PROJECTION[\"Albers_Conic_Equal_Area\"], \\n  PARAMETER[\"central_meridian\", -96.0], \\n  PARAMETER[\"latitude_of_origin\", 23.0], \\n  PARAMETER[\"standard_parallel_1\", 29.5], \\n  PARAMETER[\"false_easting\", 0.0], \\n  PARAMETER[\"false_northing\", 0.0], \\n  PARAMETER[\"standard_parallel_2\", 45.5], \\n  UNIT[\"m\", 1.0], \\n  AXIS[\"Easting\", EAST], \\n  AXIS[\"Northing\", NORTH]]', 'crs_transform': [30, 0, -2928465, 0, -30, 3265875]}, {'id': 'Land_Cover_Raw_Probability_Trees', 'data_type': {'type': 'PixelType', 'precision': 'int', 'min': 0, 'max': 255}, 'dimensions': [196082, 104128], 'crs': 'PROJCS[\"Albers_Conical_Equal_Area\", \\n  GEOGCS[\"WGS 84\", \\n    DATUM[\"WGS_1984\", \\n      SPHEROID[\"WGS 84\", 6378137.0, 298.257223563, AUTHORITY[\"EPSG\",\"7030\"]], \\n      TOWGS84[0.0, 0.0, 0.0, 0.0, 0.0, 0.0, 0.0], \\n      AUTHORITY[\"EPSG\",\"6326\"]], \\n    PRIMEM[\"Greenwich\", 0.0, AUTHORITY[\"EPSG\",\"8901\"]], \\n    UNIT[\"degree\", 0.017453292519943295], \\n    AXIS[\"Longitude\", EAST], \\n    AXIS[\"Latitude\", NORTH], \\n    AUTHORITY[\"EPSG\",\"4326\"]], \\n  PROJECTION[\"Albers_Conic_Equal_Area\"], \\n  PARAMETER[\"central_meridian\", -96.0], \\n  PARAMETER[\"latitude_of_origin\", 23.0], \\n  PARAMETER[\"standard_parallel_1\", 29.5], \\n  PARAMETER[\"false_easting\", 0.0], \\n  PARAMETER[\"false_northing\", 0.0], \\n  PARAMETER[\"standard_parallel_2\", 45.5], \\n  UNIT[\"m\", 1.0], \\n  AXIS[\"Easting\", EAST], \\n  AXIS[\"Northing\", NORTH]]', 'crs_transform': [30, 0, -2928465, 0, -30, 3265875]}, {'id': 'Land_Cover_Raw_Probability_Tall-Shrubs-and-Trees-Mix', 'data_type': {'type': 'PixelType', 'precision': 'int', 'min': 0, 'max': 255}, 'dimensions': [196082, 104128], 'crs': 'PROJCS[\"Albers_Conical_Equal_Area\", \\n  GEOGCS[\"WGS 84\", \\n    DATUM[\"WGS_1984\", \\n      SPHEROID[\"WGS 84\", 6378137.0, 298.257223563, AUTHORITY[\"EPSG\",\"7030\"]], \\n      TOWGS84[0.0, 0.0, 0.0, 0.0, 0.0, 0.0, 0.0], \\n      AUTHORITY[\"EPSG\",\"6326\"]], \\n    PRIMEM[\"Greenwich\", 0.0, AUTHORITY[\"EPSG\",\"8901\"]], \\n    UNIT[\"degree\", 0.017453292519943295], \\n    AXIS[\"Longitude\", EAST], \\n    AXIS[\"Latitude\", NORTH], \\n    AUTHORITY[\"EPSG\",\"4326\"]], \\n  PROJECTION[\"Albers_Conic_Equal_Area\"], \\n  PARAMETER[\"central_meridian\", -96.0], \\n  PARAMETER[\"latitude_of_origin\", 23.0], \\n  PARAMETER[\"standard_parallel_1\", 29.5], \\n  PARAMETER[\"false_easting\", 0.0], \\n  PARAMETER[\"false_northing\", 0.0], \\n  PARAMETER[\"standard_parallel_2\", 45.5], \\n  UNIT[\"m\", 1.0], \\n  AXIS[\"Easting\", EAST], \\n  AXIS[\"Northing\", NORTH]]', 'crs_transform': [30, 0, -2928465, 0, -30, 3265875]}, {'id': 'Land_Cover_Raw_Probability_Shrubs-and-Trees-Mix', 'data_type': {'type': 'PixelType', 'precision': 'int', 'min': 0, 'max': 255}, 'dimensions': [196082, 104128], 'crs': 'PROJCS[\"Albers_Conical_Equal_Area\", \\n  GEOGCS[\"WGS 84\", \\n    DATUM[\"WGS_1984\", \\n      SPHEROID[\"WGS 84\", 6378137.0, 298.257223563, AUTHORITY[\"EPSG\",\"7030\"]], \\n      TOWGS84[0.0, 0.0, 0.0, 0.0, 0.0, 0.0, 0.0], \\n      AUTHORITY[\"EPSG\",\"6326\"]], \\n    PRIMEM[\"Greenwich\", 0.0, AUTHORITY[\"EPSG\",\"8901\"]], \\n    UNIT[\"degree\", 0.017453292519943295], \\n    AXIS[\"Longitude\", EAST], \\n    AXIS[\"Latitude\", NORTH], \\n    AUTHORITY[\"EPSG\",\"4326\"]], \\n  PROJECTION[\"Albers_Conic_Equal_Area\"], \\n  PARAMETER[\"central_meridian\", -96.0], \\n  PARAMETER[\"latitude_of_origin\", 23.0], \\n  PARAMETER[\"standard_parallel_1\", 29.5], \\n  PARAMETER[\"false_easting\", 0.0], \\n  PARAMETER[\"false_northing\", 0.0], \\n  PARAMETER[\"standard_parallel_2\", 45.5], \\n  UNIT[\"m\", 1.0], \\n  AXIS[\"Easting\", EAST], \\n  AXIS[\"Northing\", NORTH]]', 'crs_transform': [30, 0, -2928465, 0, -30, 3265875]}, {'id': 'Land_Cover_Raw_Probability_Grass-Forb-Herb-and-Trees-Mix', 'data_type': {'type': 'PixelType', 'precision': 'int', 'min': 0, 'max': 255}, 'dimensions': [196082, 104128], 'crs': 'PROJCS[\"Albers_Conical_Equal_Area\", \\n  GEOGCS[\"WGS 84\", \\n    DATUM[\"WGS_1984\", \\n      SPHEROID[\"WGS 84\", 6378137.0, 298.257223563, AUTHORITY[\"EPSG\",\"7030\"]], \\n      TOWGS84[0.0, 0.0, 0.0, 0.0, 0.0, 0.0, 0.0], \\n      AUTHORITY[\"EPSG\",\"6326\"]], \\n    PRIMEM[\"Greenwich\", 0.0, AUTHORITY[\"EPSG\",\"8901\"]], \\n    UNIT[\"degree\", 0.017453292519943295], \\n    AXIS[\"Longitude\", EAST], \\n    AXIS[\"Latitude\", NORTH], \\n    AUTHORITY[\"EPSG\",\"4326\"]], \\n  PROJECTION[\"Albers_Conic_Equal_Area\"], \\n  PARAMETER[\"central_meridian\", -96.0], \\n  PARAMETER[\"latitude_of_origin\", 23.0], \\n  PARAMETER[\"standard_parallel_1\", 29.5], \\n  PARAMETER[\"false_easting\", 0.0], \\n  PARAMETER[\"false_northing\", 0.0], \\n  PARAMETER[\"standard_parallel_2\", 45.5], \\n  UNIT[\"m\", 1.0], \\n  AXIS[\"Easting\", EAST], \\n  AXIS[\"Northing\", NORTH]]', 'crs_transform': [30, 0, -2928465, 0, -30, 3265875]}, {'id': 'Land_Cover_Raw_Probability_Barren-and-Trees-Mix', 'data_type': {'type': 'PixelType', 'precision': 'int', 'min': 0, 'max': 255}, 'dimensions': [196082, 104128], 'crs': 'PROJCS[\"Albers_Conical_Equal_Area\", \\n  GEOGCS[\"WGS 84\", \\n    DATUM[\"WGS_1984\", \\n      SPHEROID[\"WGS 84\", 6378137.0, 298.257223563, AUTHORITY[\"EPSG\",\"7030\"]], \\n      TOWGS84[0.0, 0.0, 0.0, 0.0, 0.0, 0.0, 0.0], \\n      AUTHORITY[\"EPSG\",\"6326\"]], \\n    PRIMEM[\"Greenwich\", 0.0, AUTHORITY[\"EPSG\",\"8901\"]], \\n    UNIT[\"degree\", 0.017453292519943295], \\n    AXIS[\"Longitude\", EAST], \\n    AXIS[\"Latitude\", NORTH], \\n    AUTHORITY[\"EPSG\",\"4326\"]], \\n  PROJECTION[\"Albers_Conic_Equal_Area\"], \\n  PARAMETER[\"central_meridian\", -96.0], \\n  PARAMETER[\"latitude_of_origin\", 23.0], \\n  PARAMETER[\"standard_parallel_1\", 29.5], \\n  PARAMETER[\"false_easting\", 0.0], \\n  PARAMETER[\"false_northing\", 0.0], \\n  PARAMETER[\"standard_parallel_2\", 45.5], \\n  UNIT[\"m\", 1.0], \\n  AXIS[\"Easting\", EAST], \\n  AXIS[\"Northing\", NORTH]]', 'crs_transform': [30, 0, -2928465, 0, -30, 3265875]}, {'id': 'Land_Cover_Raw_Probability_Tall-Shrubs', 'data_type': {'type': 'PixelType', 'precision': 'int', 'min': 0, 'max': 255}, 'dimensions': [196082, 104128], 'crs': 'PROJCS[\"Albers_Conical_Equal_Area\", \\n  GEOGCS[\"WGS 84\", \\n    DATUM[\"WGS_1984\", \\n      SPHEROID[\"WGS 84\", 6378137.0, 298.257223563, AUTHORITY[\"EPSG\",\"7030\"]], \\n      TOWGS84[0.0, 0.0, 0.0, 0.0, 0.0, 0.0, 0.0], \\n      AUTHORITY[\"EPSG\",\"6326\"]], \\n    PRIMEM[\"Greenwich\", 0.0, AUTHORITY[\"EPSG\",\"8901\"]], \\n    UNIT[\"degree\", 0.017453292519943295], \\n    AXIS[\"Longitude\", EAST], \\n    AXIS[\"Latitude\", NORTH], \\n    AUTHORITY[\"EPSG\",\"4326\"]], \\n  PROJECTION[\"Albers_Conic_Equal_Area\"], \\n  PARAMETER[\"central_meridian\", -96.0], \\n  PARAMETER[\"latitude_of_origin\", 23.0], \\n  PARAMETER[\"standard_parallel_1\", 29.5], \\n  PARAMETER[\"false_easting\", 0.0], \\n  PARAMETER[\"false_northing\", 0.0], \\n  PARAMETER[\"standard_parallel_2\", 45.5], \\n  UNIT[\"m\", 1.0], \\n  AXIS[\"Easting\", EAST], \\n  AXIS[\"Northing\", NORTH]]', 'crs_transform': [30, 0, -2928465, 0, -30, 3265875]}, {'id': 'Land_Cover_Raw_Probability_Shrubs', 'data_type': {'type': 'PixelType', 'precision': 'int', 'min': 0, 'max': 255}, 'dimensions': [196082, 104128], 'crs': 'PROJCS[\"Albers_Conical_Equal_Area\", \\n  GEOGCS[\"WGS 84\", \\n    DATUM[\"WGS_1984\", \\n      SPHEROID[\"WGS 84\", 6378137.0, 298.257223563, AUTHORITY[\"EPSG\",\"7030\"]], \\n      TOWGS84[0.0, 0.0, 0.0, 0.0, 0.0, 0.0, 0.0], \\n      AUTHORITY[\"EPSG\",\"6326\"]], \\n    PRIMEM[\"Greenwich\", 0.0, AUTHORITY[\"EPSG\",\"8901\"]], \\n    UNIT[\"degree\", 0.017453292519943295], \\n    AXIS[\"Longitude\", EAST], \\n    AXIS[\"Latitude\", NORTH], \\n    AUTHORITY[\"EPSG\",\"4326\"]], \\n  PROJECTION[\"Albers_Conic_Equal_Area\"], \\n  PARAMETER[\"central_meridian\", -96.0], \\n  PARAMETER[\"latitude_of_origin\", 23.0], \\n  PARAMETER[\"standard_parallel_1\", 29.5], \\n  PARAMETER[\"false_easting\", 0.0], \\n  PARAMETER[\"false_northing\", 0.0], \\n  PARAMETER[\"standard_parallel_2\", 45.5], \\n  UNIT[\"m\", 1.0], \\n  AXIS[\"Easting\", EAST], \\n  AXIS[\"Northing\", NORTH]]', 'crs_transform': [30, 0, -2928465, 0, -30, 3265875]}, {'id': 'Land_Cover_Raw_Probability_Grass-Forb-Herb-and-Shrubs-Mix', 'data_type': {'type': 'PixelType', 'precision': 'int', 'min': 0, 'max': 255}, 'dimensions': [196082, 104128], 'crs': 'PROJCS[\"Albers_Conical_Equal_Area\", \\n  GEOGCS[\"WGS 84\", \\n    DATUM[\"WGS_1984\", \\n      SPHEROID[\"WGS 84\", 6378137.0, 298.257223563, AUTHORITY[\"EPSG\",\"7030\"]], \\n      TOWGS84[0.0, 0.0, 0.0, 0.0, 0.0, 0.0, 0.0], \\n      AUTHORITY[\"EPSG\",\"6326\"]], \\n    PRIMEM[\"Greenwich\", 0.0, AUTHORITY[\"EPSG\",\"8901\"]], \\n    UNIT[\"degree\", 0.017453292519943295], \\n    AXIS[\"Longitude\", EAST], \\n    AXIS[\"Latitude\", NORTH], \\n    AUTHORITY[\"EPSG\",\"4326\"]], \\n  PROJECTION[\"Albers_Conic_Equal_Area\"], \\n  PARAMETER[\"central_meridian\", -96.0], \\n  PARAMETER[\"latitude_of_origin\", 23.0], \\n  PARAMETER[\"standard_parallel_1\", 29.5], \\n  PARAMETER[\"false_easting\", 0.0], \\n  PARAMETER[\"false_northing\", 0.0], \\n  PARAMETER[\"standard_parallel_2\", 45.5], \\n  UNIT[\"m\", 1.0], \\n  AXIS[\"Easting\", EAST], \\n  AXIS[\"Northing\", NORTH]]', 'crs_transform': [30, 0, -2928465, 0, -30, 3265875]}, {'id': 'Land_Cover_Raw_Probability_Barren-and-Shrubs-Mix', 'data_type': {'type': 'PixelType', 'precision': 'int', 'min': 0, 'max': 255}, 'dimensions': [196082, 104128], 'crs': 'PROJCS[\"Albers_Conical_Equal_Area\", \\n  GEOGCS[\"WGS 84\", \\n    DATUM[\"WGS_1984\", \\n      SPHEROID[\"WGS 84\", 6378137.0, 298.257223563, AUTHORITY[\"EPSG\",\"7030\"]], \\n      TOWGS84[0.0, 0.0, 0.0, 0.0, 0.0, 0.0, 0.0], \\n      AUTHORITY[\"EPSG\",\"6326\"]], \\n    PRIMEM[\"Greenwich\", 0.0, AUTHORITY[\"EPSG\",\"8901\"]], \\n    UNIT[\"degree\", 0.017453292519943295], \\n    AXIS[\"Longitude\", EAST], \\n    AXIS[\"Latitude\", NORTH], \\n    AUTHORITY[\"EPSG\",\"4326\"]], \\n  PROJECTION[\"Albers_Conic_Equal_Area\"], \\n  PARAMETER[\"central_meridian\", -96.0], \\n  PARAMETER[\"latitude_of_origin\", 23.0], \\n  PARAMETER[\"standard_parallel_1\", 29.5], \\n  PARAMETER[\"false_easting\", 0.0], \\n  PARAMETER[\"false_northing\", 0.0], \\n  PARAMETER[\"standard_parallel_2\", 45.5], \\n  UNIT[\"m\", 1.0], \\n  AXIS[\"Easting\", EAST], \\n  AXIS[\"Northing\", NORTH]]', 'crs_transform': [30, 0, -2928465, 0, -30, 3265875]}, {'id': 'Land_Cover_Raw_Probability_Grass-Forb-Herb', 'data_type': {'type': 'PixelType', 'precision': 'int', 'min': 0, 'max': 255}, 'dimensions': [196082, 104128], 'crs': 'PROJCS[\"Albers_Conical_Equal_Area\", \\n  GEOGCS[\"WGS 84\", \\n    DATUM[\"WGS_1984\", \\n      SPHEROID[\"WGS 84\", 6378137.0, 298.257223563, AUTHORITY[\"EPSG\",\"7030\"]], \\n      TOWGS84[0.0, 0.0, 0.0, 0.0, 0.0, 0.0, 0.0], \\n      AUTHORITY[\"EPSG\",\"6326\"]], \\n    PRIMEM[\"Greenwich\", 0.0, AUTHORITY[\"EPSG\",\"8901\"]], \\n    UNIT[\"degree\", 0.017453292519943295], \\n    AXIS[\"Longitude\", EAST], \\n    AXIS[\"Latitude\", NORTH], \\n    AUTHORITY[\"EPSG\",\"4326\"]], \\n  PROJECTION[\"Albers_Conic_Equal_Area\"], \\n  PARAMETER[\"central_meridian\", -96.0], \\n  PARAMETER[\"latitude_of_origin\", 23.0], \\n  PARAMETER[\"standard_parallel_1\", 29.5], \\n  PARAMETER[\"false_easting\", 0.0], \\n  PARAMETER[\"false_northing\", 0.0], \\n  PARAMETER[\"standard_parallel_2\", 45.5], \\n  UNIT[\"m\", 1.0], \\n  AXIS[\"Easting\", EAST], \\n  AXIS[\"Northing\", NORTH]]', 'crs_transform': [30, 0, -2928465, 0, -30, 3265875]}, {'id': 'Land_Cover_Raw_Probability_Barren-and-Grass-Forb-Herb-Mix', 'data_type': {'type': 'PixelType', 'precision': 'int', 'min': 0, 'max': 255}, 'dimensions': [196082, 104128], 'crs': 'PROJCS[\"Albers_Conical_Equal_Area\", \\n  GEOGCS[\"WGS 84\", \\n    DATUM[\"WGS_1984\", \\n      SPHEROID[\"WGS 84\", 6378137.0, 298.257223563, AUTHORITY[\"EPSG\",\"7030\"]], \\n      TOWGS84[0.0, 0.0, 0.0, 0.0, 0.0, 0.0, 0.0], \\n      AUTHORITY[\"EPSG\",\"6326\"]], \\n    PRIMEM[\"Greenwich\", 0.0, AUTHORITY[\"EPSG\",\"8901\"]], \\n    UNIT[\"degree\", 0.017453292519943295], \\n    AXIS[\"Longitude\", EAST], \\n    AXIS[\"Latitude\", NORTH], \\n    AUTHORITY[\"EPSG\",\"4326\"]], \\n  PROJECTION[\"Albers_Conic_Equal_Area\"], \\n  PARAMETER[\"central_meridian\", -96.0], \\n  PARAMETER[\"latitude_of_origin\", 23.0], \\n  PARAMETER[\"standard_parallel_1\", 29.5], \\n  PARAMETER[\"false_easting\", 0.0], \\n  PARAMETER[\"false_northing\", 0.0], \\n  PARAMETER[\"standard_parallel_2\", 45.5], \\n  UNIT[\"m\", 1.0], \\n  AXIS[\"Easting\", EAST], \\n  AXIS[\"Northing\", NORTH]]', 'crs_transform': [30, 0, -2928465, 0, -30, 3265875]}, {'id': 'Land_Cover_Raw_Probability_Barren-or-Impervious', 'data_type': {'type': 'PixelType', 'precision': 'int', 'min': 0, 'max': 255}, 'dimensions': [196082, 104128], 'crs': 'PROJCS[\"Albers_Conical_Equal_Area\", \\n  GEOGCS[\"WGS 84\", \\n    DATUM[\"WGS_1984\", \\n      SPHEROID[\"WGS 84\", 6378137.0, 298.257223563, AUTHORITY[\"EPSG\",\"7030\"]], \\n      TOWGS84[0.0, 0.0, 0.0, 0.0, 0.0, 0.0, 0.0], \\n      AUTHORITY[\"EPSG\",\"6326\"]], \\n    PRIMEM[\"Greenwich\", 0.0, AUTHORITY[\"EPSG\",\"8901\"]], \\n    UNIT[\"degree\", 0.017453292519943295], \\n    AXIS[\"Longitude\", EAST], \\n    AXIS[\"Latitude\", NORTH], \\n    AUTHORITY[\"EPSG\",\"4326\"]], \\n  PROJECTION[\"Albers_Conic_Equal_Area\"], \\n  PARAMETER[\"central_meridian\", -96.0], \\n  PARAMETER[\"latitude_of_origin\", 23.0], \\n  PARAMETER[\"standard_parallel_1\", 29.5], \\n  PARAMETER[\"false_easting\", 0.0], \\n  PARAMETER[\"false_northing\", 0.0], \\n  PARAMETER[\"standard_parallel_2\", 45.5], \\n  UNIT[\"m\", 1.0], \\n  AXIS[\"Easting\", EAST], \\n  AXIS[\"Northing\", NORTH]]', 'crs_transform': [30, 0, -2928465, 0, -30, 3265875]}, {'id': 'Land_Cover_Raw_Probability_Snow-or-Ice', 'data_type': {'type': 'PixelType', 'precision': 'int', 'min': 0, 'max': 255}, 'dimensions': [196082, 104128], 'crs': 'PROJCS[\"Albers_Conical_Equal_Area\", \\n  GEOGCS[\"WGS 84\", \\n    DATUM[\"WGS_1984\", \\n      SPHEROID[\"WGS 84\", 6378137.0, 298.257223563, AUTHORITY[\"EPSG\",\"7030\"]], \\n      TOWGS84[0.0, 0.0, 0.0, 0.0, 0.0, 0.0, 0.0], \\n      AUTHORITY[\"EPSG\",\"6326\"]], \\n    PRIMEM[\"Greenwich\", 0.0, AUTHORITY[\"EPSG\",\"8901\"]], \\n    UNIT[\"degree\", 0.017453292519943295], \\n    AXIS[\"Longitude\", EAST], \\n    AXIS[\"Latitude\", NORTH], \\n    AUTHORITY[\"EPSG\",\"4326\"]], \\n  PROJECTION[\"Albers_Conic_Equal_Area\"], \\n  PARAMETER[\"central_meridian\", -96.0], \\n  PARAMETER[\"latitude_of_origin\", 23.0], \\n  PARAMETER[\"standard_parallel_1\", 29.5], \\n  PARAMETER[\"false_easting\", 0.0], \\n  PARAMETER[\"false_northing\", 0.0], \\n  PARAMETER[\"standard_parallel_2\", 45.5], \\n  UNIT[\"m\", 1.0], \\n  AXIS[\"Easting\", EAST], \\n  AXIS[\"Northing\", NORTH]]', 'crs_transform': [30, 0, -2928465, 0, -30, 3265875]}, {'id': 'Land_Cover_Raw_Probability_Water', 'data_type': {'type': 'PixelType', 'precision': 'int', 'min': 0, 'max': 255}, 'dimensions': [196082, 104128], 'crs': 'PROJCS[\"Albers_Conical_Equal_Area\", \\n  GEOGCS[\"WGS 84\", \\n    DATUM[\"WGS_1984\", \\n      SPHEROID[\"WGS 84\", 6378137.0, 298.257223563, AUTHORITY[\"EPSG\",\"7030\"]], \\n      TOWGS84[0.0, 0.0, 0.0, 0.0, 0.0, 0.0, 0.0], \\n      AUTHORITY[\"EPSG\",\"6326\"]], \\n    PRIMEM[\"Greenwich\", 0.0, AUTHORITY[\"EPSG\",\"8901\"]], \\n    UNIT[\"degree\", 0.017453292519943295], \\n    AXIS[\"Longitude\", EAST], \\n    AXIS[\"Latitude\", NORTH], \\n    AUTHORITY[\"EPSG\",\"4326\"]], \\n  PROJECTION[\"Albers_Conic_Equal_Area\"], \\n  PARAMETER[\"central_meridian\", -96.0], \\n  PARAMETER[\"latitude_of_origin\", 23.0], \\n  PARAMETER[\"standard_parallel_1\", 29.5], \\n  PARAMETER[\"false_easting\", 0.0], \\n  PARAMETER[\"false_northing\", 0.0], \\n  PARAMETER[\"standard_parallel_2\", 45.5], \\n  UNIT[\"m\", 1.0], \\n  AXIS[\"Easting\", EAST], \\n  AXIS[\"Northing\", NORTH]]', 'crs_transform': [30, 0, -2928465, 0, -30, 3265875]}, {'id': 'Land_Use_Raw_Probability_Agriculture', 'data_type': {'type': 'PixelType', 'precision': 'int', 'min': 0, 'max': 255}, 'dimensions': [196082, 104128], 'crs': 'PROJCS[\"Albers_Conical_Equal_Area\", \\n  GEOGCS[\"WGS 84\", \\n    DATUM[\"WGS_1984\", \\n      SPHEROID[\"WGS 84\", 6378137.0, 298.257223563, AUTHORITY[\"EPSG\",\"7030\"]], \\n      TOWGS84[0.0, 0.0, 0.0, 0.0, 0.0, 0.0, 0.0], \\n      AUTHORITY[\"EPSG\",\"6326\"]], \\n    PRIMEM[\"Greenwich\", 0.0, AUTHORITY[\"EPSG\",\"8901\"]], \\n    UNIT[\"degree\", 0.017453292519943295], \\n    AXIS[\"Longitude\", EAST], \\n    AXIS[\"Latitude\", NORTH], \\n    AUTHORITY[\"EPSG\",\"4326\"]], \\n  PROJECTION[\"Albers_Conic_Equal_Area\"], \\n  PARAMETER[\"central_meridian\", -96.0], \\n  PARAMETER[\"latitude_of_origin\", 23.0], \\n  PARAMETER[\"standard_parallel_1\", 29.5], \\n  PARAMETER[\"false_easting\", 0.0], \\n  PARAMETER[\"false_northing\", 0.0], \\n  PARAMETER[\"standard_parallel_2\", 45.5], \\n  UNIT[\"m\", 1.0], \\n  AXIS[\"Easting\", EAST], \\n  AXIS[\"Northing\", NORTH]]', 'crs_transform': [30, 0, -2928465, 0, -30, 3265875]}, {'id': 'Land_Use_Raw_Probability_Developed', 'data_type': {'type': 'PixelType', 'precision': 'int', 'min': 0, 'max': 255}, 'dimensions': [196082, 104128], 'crs': 'PROJCS[\"Albers_Conical_Equal_Area\", \\n  GEOGCS[\"WGS 84\", \\n    DATUM[\"WGS_1984\", \\n      SPHEROID[\"WGS 84\", 6378137.0, 298.257223563, AUTHORITY[\"EPSG\",\"7030\"]], \\n      TOWGS84[0.0, 0.0, 0.0, 0.0, 0.0, 0.0, 0.0], \\n      AUTHORITY[\"EPSG\",\"6326\"]], \\n    PRIMEM[\"Greenwich\", 0.0, AUTHORITY[\"EPSG\",\"8901\"]], \\n    UNIT[\"degree\", 0.017453292519943295], \\n    AXIS[\"Longitude\", EAST], \\n    AXIS[\"Latitude\", NORTH], \\n    AUTHORITY[\"EPSG\",\"4326\"]], \\n  PROJECTION[\"Albers_Conic_Equal_Area\"], \\n  PARAMETER[\"central_meridian\", -96.0], \\n  PARAMETER[\"latitude_of_origin\", 23.0], \\n  PARAMETER[\"standard_parallel_1\", 29.5], \\n  PARAMETER[\"false_easting\", 0.0], \\n  PARAMETER[\"false_northing\", 0.0], \\n  PARAMETER[\"standard_parallel_2\", 45.5], \\n  UNIT[\"m\", 1.0], \\n  AXIS[\"Easting\", EAST], \\n  AXIS[\"Northing\", NORTH]]', 'crs_transform': [30, 0, -2928465, 0, -30, 3265875]}, {'id': 'Land_Use_Raw_Probability_Forest', 'data_type': {'type': 'PixelType', 'precision': 'int', 'min': 0, 'max': 255}, 'dimensions': [196082, 104128], 'crs': 'PROJCS[\"Albers_Conical_Equal_Area\", \\n  GEOGCS[\"WGS 84\", \\n    DATUM[\"WGS_1984\", \\n      SPHEROID[\"WGS 84\", 6378137.0, 298.257223563, AUTHORITY[\"EPSG\",\"7030\"]], \\n      TOWGS84[0.0, 0.0, 0.0, 0.0, 0.0, 0.0, 0.0], \\n      AUTHORITY[\"EPSG\",\"6326\"]], \\n    PRIMEM[\"Greenwich\", 0.0, AUTHORITY[\"EPSG\",\"8901\"]], \\n    UNIT[\"degree\", 0.017453292519943295], \\n    AXIS[\"Longitude\", EAST], \\n    AXIS[\"Latitude\", NORTH], \\n    AUTHORITY[\"EPSG\",\"4326\"]], \\n  PROJECTION[\"Albers_Conic_Equal_Area\"], \\n  PARAMETER[\"central_meridian\", -96.0], \\n  PARAMETER[\"latitude_of_origin\", 23.0], \\n  PARAMETER[\"standard_parallel_1\", 29.5], \\n  PARAMETER[\"false_easting\", 0.0], \\n  PARAMETER[\"false_northing\", 0.0], \\n  PARAMETER[\"standard_parallel_2\", 45.5], \\n  UNIT[\"m\", 1.0], \\n  AXIS[\"Easting\", EAST], \\n  AXIS[\"Northing\", NORTH]]', 'crs_transform': [30, 0, -2928465, 0, -30, 3265875]}, {'id': 'Land_Use_Raw_Probability_Other', 'data_type': {'type': 'PixelType', 'precision': 'int', 'min': 0, 'max': 255}, 'dimensions': [196082, 104128], 'crs': 'PROJCS[\"Albers_Conical_Equal_Area\", \\n  GEOGCS[\"WGS 84\", \\n    DATUM[\"WGS_1984\", \\n      SPHEROID[\"WGS 84\", 6378137.0, 298.257223563, AUTHORITY[\"EPSG\",\"7030\"]], \\n      TOWGS84[0.0, 0.0, 0.0, 0.0, 0.0, 0.0, 0.0], \\n      AUTHORITY[\"EPSG\",\"6326\"]], \\n    PRIMEM[\"Greenwich\", 0.0, AUTHORITY[\"EPSG\",\"8901\"]], \\n    UNIT[\"degree\", 0.017453292519943295], \\n    AXIS[\"Longitude\", EAST], \\n    AXIS[\"Latitude\", NORTH], \\n    AUTHORITY[\"EPSG\",\"4326\"]], \\n  PROJECTION[\"Albers_Conic_Equal_Area\"], \\n  PARAMETER[\"central_meridian\", -96.0], \\n  PARAMETER[\"latitude_of_origin\", 23.0], \\n  PARAMETER[\"standard_parallel_1\", 29.5], \\n  PARAMETER[\"false_easting\", 0.0], \\n  PARAMETER[\"false_northing\", 0.0], \\n  PARAMETER[\"standard_parallel_2\", 45.5], \\n  UNIT[\"m\", 1.0], \\n  AXIS[\"Easting\", EAST], \\n  AXIS[\"Northing\", NORTH]]', 'crs_transform': [30, 0, -2928465, 0, -30, 3265875]}, {'id': 'Land_Use_Raw_Probability_Rangeland-or-Pasture', 'data_type': {'type': 'PixelType', 'precision': 'int', 'min': 0, 'max': 255}, 'dimensions': [196082, 104128], 'crs': 'PROJCS[\"Albers_Conical_Equal_Area\", \\n  GEOGCS[\"WGS 84\", \\n    DATUM[\"WGS_1984\", \\n      SPHEROID[\"WGS 84\", 6378137.0, 298.257223563, AUTHORITY[\"EPSG\",\"7030\"]], \\n      TOWGS84[0.0, 0.0, 0.0, 0.0, 0.0, 0.0, 0.0], \\n      AUTHORITY[\"EPSG\",\"6326\"]], \\n    PRIMEM[\"Greenwich\", 0.0, AUTHORITY[\"EPSG\",\"8901\"]], \\n    UNIT[\"degree\", 0.017453292519943295], \\n    AXIS[\"Longitude\", EAST], \\n    AXIS[\"Latitude\", NORTH], \\n    AUTHORITY[\"EPSG\",\"4326\"]], \\n  PROJECTION[\"Albers_Conic_Equal_Area\"], \\n  PARAMETER[\"central_meridian\", -96.0], \\n  PARAMETER[\"latitude_of_origin\", 23.0], \\n  PARAMETER[\"standard_parallel_1\", 29.5], \\n  PARAMETER[\"false_easting\", 0.0], \\n  PARAMETER[\"false_northing\", 0.0], \\n  PARAMETER[\"standard_parallel_2\", 45.5], \\n  UNIT[\"m\", 1.0], \\n  AXIS[\"Easting\", EAST], \\n  AXIS[\"Northing\", NORTH]]', 'crs_transform': [30, 0, -2928465, 0, -30, 3265875]}, {'id': 'QA_Bits', 'data_type': {'type': 'PixelType', 'precision': 'int', 'min': 0, 'max': 65535}, 'dimensions': [196082, 104128], 'crs': 'PROJCS[\"Albers_Conical_Equal_Area\", \\n  GEOGCS[\"WGS 84\", \\n    DATUM[\"WGS_1984\", \\n      SPHEROID[\"WGS 84\", 6378137.0, 298.257223563, AUTHORITY[\"EPSG\",\"7030\"]], \\n      TOWGS84[0.0, 0.0, 0.0, 0.0, 0.0, 0.0, 0.0], \\n      AUTHORITY[\"EPSG\",\"6326\"]], \\n    PRIMEM[\"Greenwich\", 0.0, AUTHORITY[\"EPSG\",\"8901\"]], \\n    UNIT[\"degree\", 0.017453292519943295], \\n    AXIS[\"Longitude\", EAST], \\n    AXIS[\"Latitude\", NORTH], \\n    AUTHORITY[\"EPSG\",\"4326\"]], \\n  PROJECTION[\"Albers_Conic_Equal_Area\"], \\n  PARAMETER[\"central_meridian\", -96.0], \\n  PARAMETER[\"latitude_of_origin\", 23.0], \\n  PARAMETER[\"standard_parallel_1\", 29.5], \\n  PARAMETER[\"false_easting\", 0.0], \\n  PARAMETER[\"false_northing\", 0.0], \\n  PARAMETER[\"standard_parallel_2\", 45.5], \\n  UNIT[\"m\", 1.0], \\n  AXIS[\"Easting\", EAST], \\n  AXIS[\"Northing\", NORTH]]', 'crs_transform': [30, 0, -2928465, 0, -30, 3265875]}], 'version': 1743117434677942, 'id': 'projects/lcms-292214/assets/Final_Outputs/2024-10/LCMS/LCMS_CONUS_v2024-10_1985', 'properties': {'Land_Cover3_class_values': [1, 2, 3, 4, 5, 6, 7], 'Change_class_palette': ['FF09F3', '541AFF', 'E4F5FD', 'CC982E', '0ADAFF', 'A10018', 'D54309', 'FAFA4B', 'AFDE1C', 'FFC80D', 'A64C28', 'F39268', 'C291D5', '00A398', '3D4551', '1B1716'], 'Change_class_values': [1, 2, 3, 4, 5, 6, 7, 8, 9, 10, 11, 12, 13, 14, 15, 16], 'Land_Cover_class_names': ['Tree', 'Tall Shrub & Tree Mix (AK Only)', 'Shrub & Tree Mix', 'Grass/Forb/Herb & Tree Mix', 'Barren & Tree Mix', 'Tall Shrub (AK Only)', 'Shrub', 'Grass/Forb/Herb & Shrub Mix', 'Barren & Shrub Mix', 'Grass/Forb/Herb', 'Barren & Grass/Forb/Herb Mix', 'Barren or Impervious', 'Snow or Ice', 'Water', 'Non-Processing Area Mask'], 'Land_Cover3_class_palette': ['004E2B', 'F89A1C', 'E5E98A', '893F54', 'E4F5FD', '00B6F0', '1B1716'], 'Land_Use_class_names': ['Agriculture', 'Developed', 'Forest', 'Other', 'Rangeland or Pasture', 'Non-Processing Area Mask'], 'Land_Cover_class_palette': ['004E2B', '009344', '61BB46', 'ACBB67', '8B8560', 'CAFD4B', 'F89A1C', '8FA55F', 'BEBB8E', 'E5E98A', 'DDB925', '893F54', 'E4F5FD', '00B6F0', '1B1716'], 'Land_Cover3_class_names': ['Tree', 'Shrub', 'Grass/Forb/Herb', 'Barren or Impervious', 'Snow or Ice', 'Water', 'Non-Processing Area Mask'], 'Land_Cover_class_values': [1, 2, 3, 4, 5, 6, 7, 8, 9, 10, 11, 12, 13, 14, 15], 'Land_Use_class_values': [1, 2, 3, 4, 5, 6], 'Land_Use_class_palette': ['FBFF97', 'E6558B', '004E2B', '9DBAC5', 'A6976A', '1B1716'], 'Change_class_names': ['Wind', 'Hurricane', 'Snow or Ice Transition', 'Desiccation', 'Inundation', 'Prescribed Fire', 'Wildfire', 'Mechanical Land Transformation', 'Tree Removal', 'Defoliation', 'Southern Pine Beetle', 'Insect, Disease, or Drought Stress', 'Other Loss', 'Vegetation Successional Growth', 'Stable', 'Non-Processing Area Mask'], 'system:time_start': 486432000000, 'size': 40, 'year': 1985, 'system:footprint': {'type': 'LinearRing', 'coordinates': [[-58.72090174290424, 42.80309452955772], [-56.3315802876497, 46.75037495088859], [-72.0837658906723, 50.47027161360784], [-82.15202640133631, 51.80735521747905], [-103.0152800478395, 52.29910607046057], [-113.32110228860947, 51.43050721471785], [-126.21879836952066, 49.23692301440288], [-135.40852498694093, 46.82930699273534], [-128.15357447866407, 33.025532146532825], [-123.63040592316568, 20.347957117406988], [-114.81495901129931, 22.512091983716026], [-100.78073882716117, 24.190238841974317], [-86.53625160245875, 23.857135923913557], [-79.5317257641358, 22.937529223239316], [-68.14222712736345, 20.279618339132575], [-63.93502506228441, 32.1238384293727], [-58.72090174290424, 42.80309452955772]]}, 'startYear': 1985, 'study_area': 'CONUS', 'system:asset_size': 96372377216, 'endYear': 2024, 'version': 'v2024-10', 'system:index': 'LCMS_CONUS_v2024-10_1985'}}\n",
            "Adding layer: Comp Raw Contracted\n",
            "Adding layer: MSK\n",
            "Adding layer: All Change\n",
            "https://earthengine.googleapis.com/v1/projects/lcms-292214/thumbnails/5d1df11ee15b47d53edd15090e313d89-01f743d967c36de16c50c3cd0bd86e48:getPixels\n"
          ]
        },
        {
          "data": {
            "text/html": [
              "<img src=\"https://earthengine.googleapis.com/v1/projects/lcms-292214/thumbnails/5d1df11ee15b47d53edd15090e313d89-01f743d967c36de16c50c3cd0bd86e48:getPixels\"/>"
            ],
            "text/plain": [
              "<IPython.core.display.Image object>"
            ]
          },
          "metadata": {},
          "output_type": "display_data"
        }
      ],
      "source": [
        "# Get CONUS Loss and Loss+Gain images\n",
        "\n",
        "print(conus_loss)\n",
        "gil.vizParamsTrue = {'min': 0.1, 'max': [0.3, 0.3, 0.3], 'bands': 'red,green,blue'}\n",
        "sa = ee.FeatureCollection(\"projects/lcms-tcc-shared/assets/CONUS/Ancillary/Conus_NLCD_Boundary\")\n",
        "\n",
        "# Set CRS and transform for CONUS\n",
        "crs = gil.common_projections['NLCD_CONUS']['crs']\n",
        "transform = gil.common_projections['NLCD_CONUS']['transform']\n",
        "print(sa.geometry().bounds(500,crs).coordinates().getInfo())\n",
        "dem = ee.Image(\"USGS/3DEP/10m\").resample(\"bicubic\")\n",
        "hillshade = ee.Terrain.hillshade(dem)\n",
        "# transform[0] = 300\n",
        "# transform[-2] = 300\n",
        "print(transform)\n",
        "\n",
        "def getMostRecentChange(c, code, msk):\n",
        "    \"\"\"Returns the most recent year of a given change code in an image collection.\n",
        "\n",
        "    Args:\n",
        "        c (ee.ImageCollection): LCMS image collection.\n",
        "        code (int): Change code to filter.\n",
        "        msk (ee.Image): Mask image.\n",
        "\n",
        "    Returns:\n",
        "        ee.ImageCollection: Image collection with year of most recent change.\n",
        "    \"\"\"\n",
        "    c = c.select(['Change'])\n",
        "    def wrapper(img):\n",
        "        yr = ee.Date(img.get(\"system:time_start\")).get(\"year\")\n",
        "        out = ee.Image(yr).int16().updateMask(msk)\n",
        "        out = out.where(img.neq(code),0).setDefaultProjection(crs,transform)\n",
        "        return (\n",
        "            ee.Image(out\n",
        "            .rename([\"year\"])\n",
        "            .copyProperties(img, [\"system:time_start\"])).reduceResolution(ee.Reducer.firstNonNull(),True,256).selfMask()\n",
        "        )\n",
        "    return c.map(wrapper)\n",
        "\n",
        "def downloadImage(url, filename):\n",
        "    \"\"\"Downloads an image from a URL and saves it to a file.\n",
        "\n",
        "    Args:\n",
        "        url (str): Image URL.\n",
        "        filename (str): Output file path.\n",
        "    \"\"\"\n",
        "    img_data = requests.get(url).content\n",
        "    with open(filename, 'wb') as handler:\n",
        "        handler.write(img_data)\n",
        "\n",
        "# Get composite image for CONUS\n",
        "comp = ee.ImageCollection(\"projects/lcms-tcc-shared/assets/CONUS/Composites/Composite-Collection-yesL7\")\\\n",
        ".filter(ee.Filter.calendarRange(2021,2024,'year')).mean()\n",
        "gil.vizParamsTrue10k = {'min': 100, 'max': [5000.0, 5000.0, 4400.0], 'bands': 'red,green,blue',}\n",
        "Map.clearMap()\n",
        "Map.addLayer(comp,gil.vizParamsFalse10k,'Comp Raw')\n",
        "\n",
        "# Load LCMS image collection and set visualization parameters\n",
        "lcms = ee.ImageCollection(\"projects/lcms-292214/assets/Final_Outputs/2024-10/LCMS\").filter(\"study_area=='CONUS'\")\\\n",
        ".map(lambda img:img.set(viz))\n",
        "print(lcms.first().getInfo())\n",
        "\n",
        "# Create mask for valid data\n",
        "msk = lcms.first().select([0]).mask()\n",
        "msk = msk.focal_min(1.5,'circle','pixels')\n",
        "\n",
        "# Mask composite image\n",
        "comp = comp.updateMask(msk)\n",
        "comp = comp.visualize(**gil.vizParamsTrue10k)\n",
        "\n",
        "Map.addLayer(comp,{},'Comp Raw Contracted')\n",
        "Map.addLayer(msk,{},'MSK')\n",
        "\n",
        "# Get properties and visualize Land Cover and Land Use\n",
        "props = lcms.first().toDictionary()\n",
        "lc = lcms.select(['Land_Cover']).sort('system:time_start',False).first().set(props).setDefaultProjection(crs,transform).visualize()\n",
        "lu = lcms.select(['Land_Use']).sort('system:time_start',False).first().set(props).setDefaultProjection(crs,transform).visualize()\n",
        "\n",
        "# Get minimum change image and mask\n",
        "all_change = lcms.select(['Change']).min()\n",
        "all_change = all_change.setDefaultProjection(crs,transform)\n",
        "change_msk = all_change.lte(14)\n",
        "all_change = all_change.updateMask(change_msk).reduceResolution(ee.Reducer.min(),True,8).updateMask(change_msk.focal_max(1).And(msk))\n",
        "all_change = all_change.set(props).visualize()\n",
        "\n",
        "all_change_msk = all_change.mask()\n",
        "all_change = all_change.unmask(comp)\n",
        "Map.addLayer(all_change,{},'All Change')\n",
        "Map.turnOnInspector()\n",
        "\n",
        "# Set parameters for thumbnail download\n",
        "params = {\n",
        "  'region': sa.geometry().bounds(500,crs),\n",
        "  'dimensions': 1000,\n",
        "  'crs': crs,\n",
        "  'transform':transform\n",
        "}\n",
        "\n",
        "# Download all change image as thumbnail\n",
        "all_change_url = all_change.getThumbURL(params)\n",
        "t = threading.Thread(target = downloadImage,args=(all_change_url,conus_change))\n",
        "t.start()\n",
        "print(all_change_url)\n",
        "display(Image(url=all_change_url))"
      ]
    },
    {
      "cell_type": "markdown",
      "metadata": {},
      "source": [
        "## Check Active Threads\n",
        "Print the number of active threads (for monitoring downloads)."
      ]
    },
    {
      "cell_type": "code",
      "execution_count": 5,
      "metadata": {},
      "outputs": [
        {
          "name": "stdout",
          "output_type": "stream",
          "text": [
            "7\n"
          ]
        }
      ],
      "source": [
        "# Print the number of active threads (for monitoring downloads)\n",
        "print(threading.active_count())"
      ]
    },
    {
      "cell_type": "code",
      "execution_count": 7,
      "metadata": {},
      "outputs": [
        {
          "name": "stdout",
          "output_type": "stream",
          "text": [
            "https://earthengine.googleapis.com/v1/projects/lcms-292214/thumbnails/6b495178e1e6813a76af24c73324c1bf-91c77c964787a4b1ecb4d581d194e2bc:getPixels https://earthengine.googleapis.com/v1/projects/lcms-292214/thumbnails/edf0e94ba05eed3e6f3a1140458aa99c-0c4d8c57b695bce2f7d405c5965c861b:getPixels\n"
          ]
        },
        {
          "data": {
            "text/html": [
              "<img src=\"https://earthengine.googleapis.com/v1/projects/lcms-292214/thumbnails/6b495178e1e6813a76af24c73324c1bf-91c77c964787a4b1ecb4d581d194e2bc:getPixels\"/>"
            ],
            "text/plain": [
              "<IPython.core.display.Image object>"
            ]
          },
          "metadata": {},
          "output_type": "display_data"
        },
        {
          "data": {
            "text/html": [
              "<img src=\"https://earthengine.googleapis.com/v1/projects/lcms-292214/thumbnails/cfd4a72a4bb6de846533722a2132af41-a8e75e6eaf0973ef232bd06e527f6f8d:getPixels\"/>"
            ],
            "text/plain": [
              "<IPython.core.display.Image object>"
            ]
          },
          "metadata": {},
          "output_type": "display_data"
        },
        {
          "data": {
            "text/html": [
              "<img src=\"https://earthengine.googleapis.com/v1/projects/lcms-292214/thumbnails/edf0e94ba05eed3e6f3a1140458aa99c-0c4d8c57b695bce2f7d405c5965c861b:getPixels\"/>"
            ],
            "text/plain": [
              "<IPython.core.display.Image object>"
            ]
          },
          "metadata": {},
          "output_type": "display_data"
        }
      ],
      "source": [
        "# Download Land Cover and Land Use images\n",
        "params = {\n",
        "  'region': sa.geometry().bounds(500,crs),\n",
        "  'dimensions': 1000,\n",
        "  'crs': crs,\n",
        "  'transform':transform\n",
        "}\n",
        "\n",
        "# Get latest Land Cover image\n",
        "lc = lcms.select(['Land_Cover']).sort('system:time_start',False).first()\n",
        "\n",
        "# Remap Land Cover to 3-class version\n",
        "lc3 = lc.remap([1, 2, 3, 4, 5, 6, 7, 8, 9, 10, 11, 12, 13, 14, 15],[1, 1, 1, 1, 1, 2, 2, 2, 2, 3, 3, 4, 5, 6, 7]).rename(['Land_Cover3']).set(viz).setDefaultProjection(crs,transform).visualize()\n",
        "\n",
        "# Visualize Land Cover and Land Use\n",
        "lc = lc.set(viz).setDefaultProjection(crs,transform).visualize()\n",
        "lu = lcms.select(['Land_Use']).sort('system:time_start',False).first().set(props).setDefaultProjection(crs,transform).visualize()\n",
        "\n",
        "# Get thumbnail URLs\n",
        "lc_url = lc.getThumbURL(params)\n",
        "lc3_url = lc3.getThumbURL(params)\n",
        "lu_url = lu.getThumbURL(params)\n",
        "\n",
        "# Download images in separate threads\n",
        "t = threading.Thread(target = downloadImage,args=(lc_url,conus_lc))\n",
        "t.start()\n",
        "t = threading.Thread(target = downloadImage,args=(lc3_url,conus_lc3))\n",
        "t.start()\n",
        "t = threading.Thread(target = downloadImage,args=(lu_url,conus_lu))\n",
        "t.start()\n",
        "print(lc_url,lu_url)\n",
        "\n",
        "# Display images in notebook\n",
        "display(Image(url=lc_url))\n",
        "display(Image(url=lc3_url))\n",
        "display(Image(url=lu_url))"
      ]
    },
    {
      "cell_type": "markdown",
      "metadata": {},
      "source": [
        "## Move Example GIFs to Assets Folder\n",
        "Copy example GIFs from a source directory to the assets folder for use in outreach materials."
      ]
    },
    {
      "cell_type": "code",
      "execution_count": null,
      "metadata": {},
      "outputs": [
        {
          "name": "stdout",
          "output_type": "stream",
          "text": [
            "Copying: Atlanta-Land_Use_wYears.gif\n",
            "Z:\\OutreachMaterials\\Google\\Geo_for_Good_2023\\02_PlenaryPresentation\\example_areas_2023-9\\basic_gifs\\Atlanta-Land_Use_wYears.gif ../assets/images\\Atlanta-Land_Use_wYears.gif\n",
            "Copying: Great_Salt_Lake-Land_Cover_wYears.gif\n",
            "Z:\\OutreachMaterials\\Google\\Geo_for_Good_2023\\02_PlenaryPresentation\\example_areas_2023-9\\basic_gifs\\Great_Salt_Lake-Land_Cover_wYears.gif ../assets/images\\Great_Salt_Lake-Land_Cover_wYears.gif\n",
            "Copying: Northern_Colorado-Change_wYears.gif\n",
            "Z:\\OutreachMaterials\\Google\\Geo_for_Good_2023\\02_PlenaryPresentation\\example_areas_2023-9\\basic_gifs\\Northern_Colorado-Change_wYears.gif ../assets/images\\Northern_Colorado-Change_wYears.gif\n",
            "Copying: Columbia_Glacier-Land_Cover_wYears.gif\n",
            "Z:\\OutreachMaterials\\Google\\Geo_for_Good_2023\\02_PlenaryPresentation\\example_areas_2023-9\\basic_gifs\\Columbia_Glacier-Land_Cover_wYears.gif ../assets/images\\Columbia_Glacier-Land_Cover_wYears.gif\n",
            "Copying: Lake_Mead-Land_Cover_wYears.gif\n",
            "Z:\\OutreachMaterials\\Google\\Geo_for_Good_2023\\02_PlenaryPresentation\\example_areas_2023-9\\basic_gifs\\Lake_Mead-Land_Cover_wYears.gif ../assets/images\\Lake_Mead-Land_Cover_wYears.gif\n",
            "Copying: Oregon_Wildfire-Change_wYears.gif\n",
            "Z:\\OutreachMaterials\\Google\\Geo_for_Good_2023\\02_PlenaryPresentation\\example_areas_2023-9\\basic_gifs\\Oregon_Wildfire-Change_wYears.gif ../assets/images\\Oregon_Wildfire-Change_wYears.gif\n",
            "Copying: Las_Vegas-Land_Use_wYears.gif\n",
            "Z:\\OutreachMaterials\\Google\\Geo_for_Good_2023\\02_PlenaryPresentation\\example_areas_2023-9\\basic_gifs\\Las_Vegas-Land_Use_wYears.gif ../assets/images\\Las_Vegas-Land_Use_wYears.gif\n",
            "Copying: Fountain_Wildfire-Change_wYears.gif\n",
            "Z:\\OutreachMaterials\\Google\\Geo_for_Good_2023\\02_PlenaryPresentation\\example_areas_2023-9\\basic_gifs\\Fountain_Wildfire-Change_wYears.gif ../assets/images\\Fountain_Wildfire-Change_wYears.gif\n",
            "Copying: Denver-Land_Use_wYears.gif\n",
            "Z:\\OutreachMaterials\\Google\\Geo_for_Good_2023\\02_PlenaryPresentation\\example_areas_2023-9\\basic_gifs\\Denver-Land_Use_wYears.gif ../assets/images\\Denver-Land_Use_wYears.gif\n"
          ]
        }
      ],
      "source": [
        "# Move gifs from gif folder to assets folder\n",
        "from_dir = r'Z:\\OutreachMaterials\\Google\\Geo_for_Good_2023\\02_PlenaryPresentation\\example_areas_2023-9\\basic_gifs'\n",
        "\n",
        "which_ones = ['Atlanta-Land_Use_wYears.gif','Great_Salt_Lake-Land_Cover_wYears.gif','Northern_Colorado-Change_wYears.gif','Columbia_Glacier-Land_Cover_wYears.gif','Lake_Mead-Land_Cover_wYears.gif','Oregon_Wildfire-Change_wYears.gif','Las_Vegas-Land_Use_wYears.gif','Fountain_Wildfire-Change_wYears.gif','Denver-Land_Use_wYears.gif']\n",
        "\n",
        "for w in which_ones:\n",
        "    # Copy each gif to the output folder\n",
        "    print('Copying:',os.path.basename(w))\n",
        "    input = os.path.join(from_dir,os.path.basename(w))\n",
        "    output = os.path.join(output_folder,os.path.basename(w))\n",
        "    print(input,output)\n",
        "    shutil.copy2(input,output)"
      ]
    }
  ],
  "metadata": {
    "colab": {
      "include_colab_link": true,
      "provenance": []
    },
    "kernelspec": {
      "display_name": "venv",
      "language": "python",
      "name": "python3"
    },
    "language_info": {
      "codemirror_mode": {
        "name": "ipython",
        "version": 3
      },
      "file_extension": ".py",
      "mimetype": "text/x-python",
      "name": "python",
      "nbconvert_exporter": "python",
      "pygments_lexer": "ipython3",
      "version": "3.12.0"
    }
  },
  "nbformat": 4,
  "nbformat_minor": 0
}
