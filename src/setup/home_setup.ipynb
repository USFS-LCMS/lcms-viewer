{
  "cells": [
    {
      "cell_type": "code",
      "execution_count": 1,
      "metadata": {
        "id": "fmzT0LcaCZOv"
      },
      "outputs": [
        {
          "name": "stderr",
          "output_type": "stream",
          "text": [
            "c:\\Users\\ihousman\\AppData\\Local\\Programs\\Python\\Python311\\Lib\\site-packages\\google\\auth\\_default.py:78: UserWarning: Your application has authenticated using end user credentials from Google Cloud SDK without a quota project. You might receive a \"quota exceeded\" or \"API not enabled\" error. See the following page for troubleshooting: https://cloud.google.com/docs/authentication/adc-troubleshooting/user-creds. \n",
            "  warnings.warn(_CLOUD_SDK_CREDENTIALS_WARNING)\n"
          ]
        },
        {
          "name": "stdout",
          "output_type": "stream",
          "text": [
            "geeViz package folder: c:\\Users\\ihousman\\AppData\\Local\\Programs\\Python\\Python311\\Lib\\site-packages\\geeViz\n"
          ]
        }
      ],
      "source": [
        "import ee,requests,os,sys\n",
        "from IPython.display import Image\n",
        "ee.Initialize(project='lcms-292214')\n",
        "\n",
        "import geeViz.getImagesLib as gil\n",
        "import geeViz.changeDetectionLib as cdl\n",
        "Map = gil.Map"
      ]
    },
    {
      "cell_type": "code",
      "execution_count": 4,
      "metadata": {
        "id": "9yBHahoeCdlT"
      },
      "outputs": [
        {
          "name": "stdout",
          "output_type": "stream",
          "text": [
            "../assets/images\\CONUS_v2023-9_Change_Loss.png\n",
            "[30, 0, -2361915.0, 0, -30, 3177735.0]\n",
            "Adding layer: Loss\n",
            "Adding layer: Loss+Gain\n",
            "Starting webmap\n",
            "Using default refresh token for geeView\n",
            "Local web server at: http://localhost:8001/geeView/ already serving.\n",
            "cwd z:\\Projects\\06_LCMS_4_NFS\\Scripts\\landscape-change-data-explorer\\src\\setup\n",
            "geeView URL: http://localhost:8001/geeView/?projectID=lcms-292214&accessToken=ya29.a0Ad52N3_ZqrcIswn-acajr28kftj2QeEGCwnYHrXr5bPxQ8nNBWiwRrj3MoDZPbvGkpW4WpIxxKhncV37BH_OyPiQggNEfHCoIC1DEIHwbXrCxcV8OEoP5hKiSoU98b6W1JlvD11G3dj_W_NF8oF4FfxnaA0IJiM9Dqu63GgaCgYKAToSARESFQHGX2MiF633u7IQh0Kk7xrih3N6jQ0174\n"
          ]
        },
        {
          "data": {
            "text/html": [
              "\n",
              "        <iframe\n",
              "            width=\"100%\"\n",
              "            height=\"525px\"\n",
              "            src=\"http://localhost:8001/geeView/?projectID=lcms-292214&accessToken=ya29.a0Ad52N3_ZqrcIswn-acajr28kftj2QeEGCwnYHrXr5bPxQ8nNBWiwRrj3MoDZPbvGkpW4WpIxxKhncV37BH_OyPiQggNEfHCoIC1DEIHwbXrCxcV8OEoP5hKiSoU98b6W1JlvD11G3dj_W_NF8oF4FfxnaA0IJiM9Dqu63GgaCgYKAToSARESFQHGX2MiF633u7IQh0Kk7xrih3N6jQ0174\"\n",
              "            frameborder=\"0\"\n",
              "            allowfullscreen\n",
              "            \n",
              "        ></iframe>\n",
              "        "
            ],
            "text/plain": [
              "<IPython.lib.display.IFrame at 0x260bc08c950>"
            ]
          },
          "metadata": {},
          "output_type": "display_data"
        },
        {
          "name": "stdout",
          "output_type": "stream",
          "text": [
            "{'type': 'Image', 'bands': [{'id': 'vis-red', 'data_type': {'type': 'PixelType', 'precision': 'int', 'min': 0, 'max': 255}, 'crs': 'EPSG:4326', 'crs_transform': [1, 0, 0, 0, 1, 0]}, {'id': 'vis-green', 'data_type': {'type': 'PixelType', 'precision': 'int', 'min': 0, 'max': 255}, 'crs': 'EPSG:4326', 'crs_transform': [1, 0, 0, 0, 1, 0]}, {'id': 'vis-blue', 'data_type': {'type': 'PixelType', 'precision': 'int', 'min': 0, 'max': 255}, 'crs': 'EPSG:4326', 'crs_transform': [1, 0, 0, 0, 1, 0]}], 'properties': {'system:annotations': None}}\n",
            "39\n"
          ]
        }
      ],
      "source": [
        "# Get CONUS Loss and Loss+Gain images\n",
        "\n",
        "output_folder = '../assets/images'\n",
        "version = '2023-9'\n",
        "conus_loss = os.path.join(output_folder,f'CONUS_v{version}_Change_Loss.png')\n",
        "conus_loss_gain = os.path.join(output_folder,f'CONUS_v{version}_Change_Loss_Gain.png')\n",
        "print(conus_loss)\n",
        "gil.vizParamsTrue = {'min': 0.1, 'max': [0.3, 0.3, 0.3], 'bands': 'red,green,blue'}\n",
        "sa = ee.FeatureCollection(\"projects/lcms-tcc-shared/assets/CONUS/Ancillary/Conus_NLCD_Boundary\")\n",
        "\n",
        "crs = gil.common_projections['NLCD_CONUS']['crs']\n",
        "transform = gil.common_projections['NLCD_CONUS']['transform']\n",
        "# transform[0] = 300\n",
        "# transform[-2] = 300\n",
        "print(transform)\n",
        "\n",
        "def getMostRecentChange(c, code):\n",
        "    def wrapper(img):\n",
        "        yr = ee.Date(img.get(\"system:time_start\")).get(\"year\")\n",
        "        out = ee.Image(yr).int16()\n",
        "        out = out.where(img.neq(code),0).setDefaultProjection(crs,transform)#.selfMask()\n",
        "        return (\n",
        "            ee.Image(out\n",
        "            .rename([\"year\"])\n",
        "            .copyProperties(img, [\"system:time_start\"])).reduceResolution(ee.Reducer.firstNonNull(),True,256).selfMask()#.reproject(crs,transform)#.selfMask()\n",
        "        )\n",
        "\n",
        "    return c.map(wrapper)\n",
        "def downloadImage(url,filename):\n",
        "    img_data = requests.get(url).content\n",
        "    with open(filename, 'wb') as handler:\n",
        "        handler.write(img_data)\n",
        "\n",
        "comp = ee.ImageCollection(\"projects/lcms-tcc-shared/assets/CONUS/Composites/Composite-Collection-yesL7\")\\\n",
        ".filter(ee.Filter.calendarRange(2020,2023,'year')).mean()#.resample('bicubic').reproject(crs,transform)\n",
        "\n",
        "comp = comp.visualize(**gil.vizParamsTrue10k)#.setDefaultProjection(crs,transform)#.reduceResolution(ee.Reducer.mean(),True).reproject(crs,transform)\n",
        "\n",
        "lcms = ee.ImageCollection(\"USFS/GTAC/LCMS/v2023-9\").filter(\"study_area=='CONUS'\").select([0])\n",
        "\n",
        "fast_loss = getMostRecentChange(lcms,3).mean().visualize(**{'min':1985,'max':2023,'palette':cdl.lossYearPalette})\n",
        "slow_loss = getMostRecentChange(lcms,2).mean().visualize(**{'min':1985,'max':2023,'palette':cdl.lossYearPalette})\n",
        "gain = getMostRecentChange(lcms,4).mean().visualize(**{'min':1985,'max':2023,'palette':cdl.gainYearPalette})\n",
        "\n",
        "loss = comp\n",
        "loss = loss.where(fast_loss.neq(0),fast_loss)\n",
        "loss = loss.where(slow_loss.neq(0),slow_loss)\n",
        "\n",
        "loss_gain = comp\n",
        "\n",
        "loss_gain = loss_gain.where(fast_loss.neq(0),fast_loss)\n",
        "loss_gain = loss_gain.where(slow_loss.neq(0),slow_loss)\n",
        "loss_gain = loss_gain.where(gain.neq(0),gain)\n",
        "Map.clearMap()\n",
        "Map.addLayer(loss,{},'Loss')\n",
        "Map.addLayer(loss_gain,{},'Loss+Gain')\n",
        "Map.view()\n",
        "\n",
        "params = {\n",
        "  'region': sa.geometry().bounds(500,crs),\n",
        "  'dimensions': 1000,\n",
        "  'crs': crs,\n",
        "  'transform':transform,\n",
        "  'framesPerSecond': 5\n",
        "}\n",
        "\n",
        "# Get a URL that will generate a GIF.\n",
        "# url = comps.getVideoThumbURL(params)\n",
        "loss_url = loss.getThumbURL(params)\n",
        "loss_gain_url = loss_gain.getThumbURL(params)\n",
        "\n",
        "downloadImage(loss_url,conus_loss)\n",
        "downloadImage(loss_gain_url,conus_loss_gain)\n",
        "# print(url)\n",
        "# # Display the NDVI animation.\n",
        "# Image(url=url)\n"
      ]
    }
  ],
  "metadata": {
    "colab": {
      "include_colab_link": true,
      "provenance": []
    },
    "kernelspec": {
      "display_name": "Python 3",
      "name": "python3"
    },
    "language_info": {
      "codemirror_mode": {
        "name": "ipython",
        "version": 3
      },
      "file_extension": ".py",
      "mimetype": "text/x-python",
      "name": "python",
      "nbconvert_exporter": "python",
      "pygments_lexer": "ipython3",
      "version": "3.11.4"
    }
  },
  "nbformat": 4,
  "nbformat_minor": 0
}
