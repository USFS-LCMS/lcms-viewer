{
 "cells": [
  {
   "cell_type": "code",
   "execution_count": 1,
   "metadata": {},
   "outputs": [
    {
     "name": "stdout",
     "output_type": "stream",
     "text": [
      "geeViz package folder: c:\\Users\\ihousman\\AppData\\Local\\Programs\\Python\\Python311\\Lib\\site-packages\\geeViz\n"
     ]
    }
   ],
   "source": [
    "import ee\n",
    "ee.Initialize(project='gtac-lamda')\n",
    "import geeViz.getImagesLib as gil\n",
    "import geeViz.geePalettes as palette\n",
    "import geeViz.assetManagerLib as aml\n",
    "import math,os\n",
    "\n",
    "Map = gil.Map"
   ]
  },
  {
   "cell_type": "code",
   "execution_count": 3,
   "metadata": {},
   "outputs": [
    {
     "name": "stdout",
     "output_type": "stream",
     "text": [
      "Found the following sub directories:  ['Ancillary', 'Wetland', 'Height_Above_Channel']\n",
      "Will attempt to create them if they do not exist\n",
      "Asset projects/lcms-292214/assets/Ancillary already exists\n",
      "Asset projects/lcms-292214/assets/Ancillary/Wetland already exists\n",
      "Asset projects/lcms-292214/assets/Ancillary/Wetland/Height_Above_Channel already exists\n",
      "Adding layer: NWI\n",
      "ID ID\n",
      "Adding layer: ID- NHD Flowlines and Waterbodies\n",
      "Adding layer: ID- NHD Rast\n",
      "Adding layer: ID-Distance From NHD (meters)\n",
      "Adding layer: ID-Slope (Radians)\n",
      "Adding layer: ID-Height Above Channel (meters)\n",
      "Adding layer: ID-Valley Bottom\n",
      "Exporting: ID_Height_Above_NHD_Flowline_and_Waterbody_10m\n",
      "Adding layer: Asset Height Above Channel (meters)\n",
      "Setting click query transform to: [10, 0, -2361915.0, 0, -10, 3177735.0]\n",
      "Starting webmap\n",
      "Using default refresh token for geeView\n",
      "Local web server at: http://localhost:1234/geeView/ already serving.\n",
      "cwd z:\\Projects\\06_LCMS_4_NFS\\Scripts\\landscape-change-data-explorer\\src\\setup\n",
      "geeView URL: http://localhost:1234/geeView/?projectID=gtac-lamda&accessToken=ya29.a0AeDClZCCfgzyFlQ-jO8oMEYU1MyitX4wip0N_M0hCIFXh1gUvAo8ErMLLaHFzNKI9l8i3S_QbsvHOQ0Ng9gW-yEE8dmCVquhUogB6EynqCfwoUPMVBGw-Q3pr039je3ee-v8FaPDFRlllpb7vIw0gIOK5Xj-NqM3aH1IlsGMpdUaCgYKAT4SARESFQHGX2MimV7EbmL2lqVXd9pIk4bqGA0178\n"
     ]
    }
   ],
   "source": [
    "\n",
    "Map.clearMap()\n",
    "Map.port = 1234\n",
    "# Set projection (for visualizing, must reproject terrain-based outputs)\n",
    "output_collection = 'projects/lcms-292214/assets/Ancillary/Wetland/Height_Above_Channel'\n",
    "aml.create_asset(output_collection,ee.data.ASSET_TYPE_IMAGE_COLL)\n",
    "\n",
    "\n",
    "# Get NHD flowlines and waterbodies\n",
    "# Filter out as needed: https://www.usgs.gov/ngp-standards-and-specifications/national-hydrography-dataset-nhd-data-dictionary-feature-classes\n",
    "nhd_files  = [f['id'] for f in ee.data.getList({'id':\"projects/sat-io/open-datasets/NHD\"})]\n",
    "\n",
    "# flowlines = ee.FeatureCollection([ee.FeatureCollection(f+'/NHDFlowline') for f in nhd_files]).flatten()\n",
    "# waterbodies = ee.FeatureCollection([ee.FeatureCollection(f+'/NHDWaterbody') for f in nhd_files]).flatten()\n",
    "states = ee.FeatureCollection(\"TIGER/2018/States\")\n",
    "\n",
    "nwi_obj_info = {\n",
    "      'Wetland_Class_class_names': [\n",
    "        \"Freshwater Forested/Shrub Wetland\",\n",
    "        \"Freshwater Emergent Wetland\",\n",
    "        \"Freshwater Pond\",\n",
    "        \"Estuarine and Marine Wetland\",\n",
    "        \"Riverine\",\n",
    "        \"Lake\",\n",
    "        \"Estuarine and Marine Deepwater\",\n",
    "        \"Other\",\n",
    "      ],\n",
    "      'Wetland_Class_class_palette': [\n",
    "        \"008837\",\n",
    "        \"7FC31C\",\n",
    "        \"688CC0\",\n",
    "        \"66C2A5\",\n",
    "        \"0190BF\",\n",
    "        \"13007C\",\n",
    "        \"007C88\",\n",
    "        \"B28653\",\n",
    "      ],\n",
    "      'Wetland_Class_class_values': [1, 2, 3, 4, 5, 6, 7, 8],\n",
    "      'bandNames': [\"Wetland_Class\"],\n",
    "    }\n",
    "nwi = ee.ImageCollection('projects/lcms-292214/assets/Ancillary/NWI').mosaic().set(nwi_obj_info)\n",
    "Map.addLayer(nwi,{'autoViz':True},'NWI')\n",
    "def getHAC(flowlines,waterbodies,nm,crs,transform):\n",
    "    flowlines = flowlines.filter(ee.Filter.eq('ftype',460))\n",
    "    \n",
    "    waterbodies = waterbodies.filter(ee.Filter.eq('ftype',390))\n",
    "\n",
    "    # Merge NHD and set a dummy property for rasterizing\n",
    "    nhd= flowlines.merge(waterbodies)\n",
    "    nhd = nhd.map(lambda f:f.set('prop',1))\n",
    "    Map.addLayer(nhd,{'styleParams':{'lineType':'dashed','color':'80F','fillColor':'0FF3'}},f'{nm}- NHD Flowlines and Waterbodies',False)\n",
    "\n",
    "\n",
    "    # Rasterize NHD\n",
    "    nhd_rast = nhd.reduceToImage(['prop'],ee.Reducer.first())\n",
    "    nhd_rast = nhd_rast.mask().Or(nwi.mask()).selfMask()\n",
    "    \n",
    "    Map.addLayer(nhd_rast,{'min':1,'max':1,'palette':'00D'},f'{nm}- NHD Rast',False)\n",
    "\n",
    "    # Get distance raster (just for visualizing)\n",
    "    dist = nhd_rast.distance(ee.Kernel.euclidean(1000,'meters'),False)\n",
    "    Map.addLayer(dist.reproject(crs,transform),{'min':0,'max':1000,'palette':palette.matplotlib['magma'][7]},f'{nm}-Distance From NHD (meters)',False)\n",
    "\n",
    "    # Bring in terrain data\n",
    "    dem = ee.Image(\"USGS/3DEP/10m\").resample('bicubic')#.focalMean(3.5,'circle','pixels')\n",
    "\n",
    "    # Compute slope in radians\n",
    "    slope =ee.Terrain.slope(dem).multiply(math.pi).divide(180)\n",
    "    Map.addLayer(slope.reproject(crs,transform),{'min':0,'max':0.4,'palette':palette.matplotlib['inferno'][7]},f'{nm}-Slope (Radians)',False)\n",
    "\n",
    "\n",
    "    # Compute the height above NHD \n",
    "    hac = slope.tan().cumulativeCost(nhd_rast,1500).rename(['Meters_Above_Channel']).int16()\n",
    "    Map.addLayer(hac.reproject(crs,transform),{'min':0,'max':80,'palette':palette.matplotlib['plasma'][7]},f'{nm}-Height Above Channel (meters)',True)\n",
    "\n",
    "    # Mask for valley bottom\n",
    "    vb = hac.lte(3).selfMask().rename('Valley_Bottom').set({'Valley_Bottom_class_names':['Valley Bottom'],'Valley_Bottom_class_values':[1],'Valley_Bottom_class_palette':['0088FF']})\n",
    "    Map.addLayer(vb.reproject(crs,transform),{'autoViz':True}, f'{nm}-Valley Bottom',True)\n",
    "    return hac\n",
    "\n",
    "nhd_files = [f for f in nhd_files if f.find('NHD_ID')>-1]\n",
    "for nhd_file in nhd_files[0:1]:\n",
    "    # print(nhd_file)\n",
    "    nm = os.path.basename(nhd_file).split('NHD_')[1]\n",
    "    state = states.filter(ee.Filter.eq('STUSPS',nm)).first()\n",
    "    print(nm,state.get('STUSPS').getInfo())\n",
    "    crs = gil.common_projections['NLCD_CONUS']['crs']\n",
    "    transform = gil.common_projections['NLCD_CONUS']['transform']\n",
    "\n",
    "    if os.path.basename(nhd_file).find('_AK')> -1:\n",
    "        crs = gil.common_projections['NLCD_AK']['crs']\n",
    "        transform = gil.common_projections['NLCD_AK']['transform']\n",
    "    elif os.path.basename(nhd_file).find('_HI')> -1:\n",
    "        crs = gil.common_projections['NLCD_HI']['crs']\n",
    "        transform = gil.common_projections['NLCD_HI']['transform']\n",
    "    res = 10\n",
    "    transform[0] = res\n",
    "    transform[4] = -res\n",
    "\n",
    "    flowlines = ee.FeatureCollection(nhd_file+'/NHDFlowline')\n",
    "    waterbodies = ee.FeatureCollection(nhd_file+'/NHDWaterbody') \n",
    "    hac = getHAC(flowlines,waterbodies,nm,crs,transform)\n",
    "\n",
    "    output_name = f'{nm}_Height_Above_NHD_Flowline_and_Waterbody_{res}m'\n",
    "    output_asset = f'{output_collection}/{output_name}'\n",
    "    gil.exportToAssetWrapper(hac,output_name,output_asset,roi =state,crs = crs,transform = transform,overwrite=True)\n",
    "\n",
    "hac = ee.ImageCollection(output_collection).mosaic()\n",
    "\n",
    "Map.addLayer(hac,{'min':0,'max':80,'palette':palette.matplotlib['plasma'][7]},f'Asset Height Above Channel (meters)',True)\n",
    "\n",
    "Map.turnOnInspector()\n",
    "Map.setQueryTransform(transform)\n",
    "Map.view(open_browser=True)\n"
   ]
  },
  {
   "cell_type": "code",
   "execution_count": 15,
   "metadata": {},
   "outputs": [
    {
     "name": "stdout",
     "output_type": "stream",
     "text": [
      "Adding layer: Height Above Channel (meters)\n",
      "Starting webmap\n",
      "Using default refresh token for geeView\n",
      "Local web server at: http://localhost:1234/geeView/ already serving.\n",
      "cwd z:\\Projects\\06_LCMS_4_NFS\\Scripts\\landscape-change-data-explorer\\src\\setup\n",
      "geeView URL: http://localhost:1234/geeView/?projectID=lcms-292214&accessToken=ya29.a0AeDClZBSFRrbgIVOIxlifYtjpIp5BQIj2lsQJyfjFj22dxLAG35NCGQ3UwPQJ1OBTlpL0kA1550Nrof4lHknffzr1MLPKK2Hxg1StjbVbe26RfcyOjIBOX_bjxLw0hjFYPiQXhQOo749iKKx8CE08Ca3hg_xcAIBB39qXM_ni3oaCgYKAUESARESFQHGX2Mie4tiWGDd_Q7lXohf1nNrug0178\n"
     ]
    },
    {
     "data": {
      "text/html": [
       "\n",
       "        <iframe\n",
       "            width=\"100%\"\n",
       "            height=\"525px\"\n",
       "            src=\"http://localhost:1234/geeView/?projectID=lcms-292214&accessToken=ya29.a0AeDClZBSFRrbgIVOIxlifYtjpIp5BQIj2lsQJyfjFj22dxLAG35NCGQ3UwPQJ1OBTlpL0kA1550Nrof4lHknffzr1MLPKK2Hxg1StjbVbe26RfcyOjIBOX_bjxLw0hjFYPiQXhQOo749iKKx8CE08Ca3hg_xcAIBB39qXM_ni3oaCgYKAUESARESFQHGX2Mie4tiWGDd_Q7lXohf1nNrug0178\"\n",
       "            frameborder=\"0\"\n",
       "            allowfullscreen\n",
       "            \n",
       "        ></iframe>\n",
       "        "
      ],
      "text/plain": [
       "<IPython.lib.display.IFrame at 0x2b8539c8510>"
      ]
     },
     "metadata": {},
     "output_type": "display_data"
    }
   ],
   "source": [
    "hac = ee.ImageCollection(output_collection)\n",
    "Map.clearMap()\n",
    "Map.addLayer(hac,{'min':0,'max':80,'palette':palette.matplotlib['plasma'][7]},f'Height Above Channel (meters)',True)\n",
    "\n",
    "Map.turnOnInspector()\n",
    "Map.view()\n"
   ]
  }
 ],
 "metadata": {
  "kernelspec": {
   "display_name": "Python 3",
   "language": "python",
   "name": "python3"
  },
  "language_info": {
   "codemirror_mode": {
    "name": "ipython",
    "version": 3
   },
   "file_extension": ".py",
   "mimetype": "text/x-python",
   "name": "python",
   "nbconvert_exporter": "python",
   "pygments_lexer": "ipython3",
   "version": "3.11.4"
  }
 },
 "nbformat": 4,
 "nbformat_minor": 2
}
